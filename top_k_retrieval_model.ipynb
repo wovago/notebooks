{
  "cells": [
    {
      "cell_type": "markdown",
      "metadata": {
        "id": "T6kRBcd-ZA1G"
      },
      "source": [
        "# Top K retrieval model for recommending food recipes\n"
      ]
    },
    {
      "cell_type": "markdown",
      "source": [
        "## Introduction"
      ],
      "metadata": {
        "id": "Hdrg9S8y_qRn"
      }
    },
    {
      "cell_type": "markdown",
      "source": [
        "In this analysis we will build a food recipe recommender system. We will build a user-item recommender system that can recommend recipes to users based on previous interactions. We will use collaborative filtering with implicit feedback where rated recipes are used as positive examples for a given user.\n",
        "So given a user input ID, the system will return some recipe IDs that might be of interest to that user based on that user's rated recipes.\n"
      ],
      "metadata": {
        "id": "_sMj1fk9K7EU"
      }
    },
    {
      "cell_type": "markdown",
      "source": [
        "Recommender systems used in production typically consist of two phases:\n",
        "\n",
        "1. The **retrieval stage** plays a crucial role in picking an initial set of several hundred candidates out of a vast pool of options. Its primary aim is to swiftly eliminate all candidates that fail to pique the user's interest. Given that the retrieval model might need to sift through millions of candidates, it must be computationally efficient.\n",
        "\n",
        "2. The next stage is the **ranking stage**, which further fine-tunes the outputs from the retrieval model to identify the optimal few recommendations. It will further narrow down the list of candidates retrieved during the retrieval stage and create a (ranked) shortlist of candidates.\n",
        "\n",
        "In this analysis we will focus on building a **retrieval model** that can used for the retrieval stage."
      ],
      "metadata": {
        "id": "g1AXoLaZOE2K"
      }
    },
    {
      "cell_type": "markdown",
      "source": [
        "## Load Data"
      ],
      "metadata": {
        "id": "ZI_OJT3zfmRv"
      }
    },
    {
      "cell_type": "code",
      "execution_count": 1,
      "metadata": {
        "id": "SE41iOTmZA1Q"
      },
      "outputs": [],
      "source": [
        "import os\n",
        "import pprint\n",
        "import sys\n",
        "from ast import literal_eval\n",
        "from typing import Dict, Text\n",
        "\n",
        "import matplotlib.pyplot as plt\n",
        "import numpy as np\n",
        "import pandas as pd\n",
        "import seaborn as sns\n",
        "import tensorflow as tf\n",
        "\n",
        "import warnings\n",
        "warnings.filterwarnings(\"ignore\")"
      ]
    },
    {
      "cell_type": "code",
      "execution_count": 2,
      "metadata": {
        "colab": {
          "base_uri": "https://localhost:8080/"
        },
        "id": "UQBiArXfg2Rk",
        "outputId": "e6605c60-a1ae-48a6-f8b3-eb43e8f13879"
      },
      "outputs": [
        {
          "output_type": "stream",
          "name": "stdout",
          "text": [
            "Looking in indexes: https://pypi.org/simple, https://us-python.pkg.dev/colab-wheels/public/simple/\n",
            "Collecting tensorflow-recommenders\n",
            "  Downloading tensorflow_recommenders-0.7.3-py3-none-any.whl (96 kB)\n",
            "\u001b[2K     \u001b[90m━━━━━━━━━━━━━━━━━━━━━━━━━━━━━━━━━━━━━━━━\u001b[0m \u001b[32m96.2/96.2 kB\u001b[0m \u001b[31m3.1 MB/s\u001b[0m eta \u001b[36m0:00:00\u001b[0m\n",
            "\u001b[?25hRequirement already satisfied: absl-py>=0.1.6 in /usr/local/lib/python3.9/dist-packages (from tensorflow-recommenders) (1.4.0)\n",
            "Requirement already satisfied: tensorflow>=2.9.0 in /usr/local/lib/python3.9/dist-packages (from tensorflow-recommenders) (2.12.0)\n",
            "Requirement already satisfied: tensorflow-io-gcs-filesystem>=0.23.1 in /usr/local/lib/python3.9/dist-packages (from tensorflow>=2.9.0->tensorflow-recommenders) (0.32.0)\n",
            "Requirement already satisfied: flatbuffers>=2.0 in /usr/local/lib/python3.9/dist-packages (from tensorflow>=2.9.0->tensorflow-recommenders) (23.3.3)\n",
            "Requirement already satisfied: h5py>=2.9.0 in /usr/local/lib/python3.9/dist-packages (from tensorflow>=2.9.0->tensorflow-recommenders) (3.8.0)\n",
            "Requirement already satisfied: typing-extensions>=3.6.6 in /usr/local/lib/python3.9/dist-packages (from tensorflow>=2.9.0->tensorflow-recommenders) (4.5.0)\n",
            "Requirement already satisfied: numpy<1.24,>=1.22 in /usr/local/lib/python3.9/dist-packages (from tensorflow>=2.9.0->tensorflow-recommenders) (1.22.4)\n",
            "Requirement already satisfied: six>=1.12.0 in /usr/local/lib/python3.9/dist-packages (from tensorflow>=2.9.0->tensorflow-recommenders) (1.16.0)\n",
            "Requirement already satisfied: jax>=0.3.15 in /usr/local/lib/python3.9/dist-packages (from tensorflow>=2.9.0->tensorflow-recommenders) (0.4.8)\n",
            "Requirement already satisfied: wrapt<1.15,>=1.11.0 in /usr/local/lib/python3.9/dist-packages (from tensorflow>=2.9.0->tensorflow-recommenders) (1.14.1)\n",
            "Requirement already satisfied: libclang>=13.0.0 in /usr/local/lib/python3.9/dist-packages (from tensorflow>=2.9.0->tensorflow-recommenders) (16.0.0)\n",
            "Requirement already satisfied: setuptools in /usr/local/lib/python3.9/dist-packages (from tensorflow>=2.9.0->tensorflow-recommenders) (67.7.2)\n",
            "Requirement already satisfied: tensorboard<2.13,>=2.12 in /usr/local/lib/python3.9/dist-packages (from tensorflow>=2.9.0->tensorflow-recommenders) (2.12.2)\n",
            "Requirement already satisfied: astunparse>=1.6.0 in /usr/local/lib/python3.9/dist-packages (from tensorflow>=2.9.0->tensorflow-recommenders) (1.6.3)\n",
            "Requirement already satisfied: gast<=0.4.0,>=0.2.1 in /usr/local/lib/python3.9/dist-packages (from tensorflow>=2.9.0->tensorflow-recommenders) (0.4.0)\n",
            "Requirement already satisfied: packaging in /usr/local/lib/python3.9/dist-packages (from tensorflow>=2.9.0->tensorflow-recommenders) (23.1)\n",
            "Requirement already satisfied: tensorflow-estimator<2.13,>=2.12.0 in /usr/local/lib/python3.9/dist-packages (from tensorflow>=2.9.0->tensorflow-recommenders) (2.12.0)\n",
            "Requirement already satisfied: keras<2.13,>=2.12.0 in /usr/local/lib/python3.9/dist-packages (from tensorflow>=2.9.0->tensorflow-recommenders) (2.12.0)\n",
            "Requirement already satisfied: termcolor>=1.1.0 in /usr/local/lib/python3.9/dist-packages (from tensorflow>=2.9.0->tensorflow-recommenders) (2.2.0)\n",
            "Requirement already satisfied: grpcio<2.0,>=1.24.3 in /usr/local/lib/python3.9/dist-packages (from tensorflow>=2.9.0->tensorflow-recommenders) (1.53.0)\n",
            "Requirement already satisfied: protobuf!=4.21.0,!=4.21.1,!=4.21.2,!=4.21.3,!=4.21.4,!=4.21.5,<5.0.0dev,>=3.20.3 in /usr/local/lib/python3.9/dist-packages (from tensorflow>=2.9.0->tensorflow-recommenders) (3.20.3)\n",
            "Requirement already satisfied: opt-einsum>=2.3.2 in /usr/local/lib/python3.9/dist-packages (from tensorflow>=2.9.0->tensorflow-recommenders) (3.3.0)\n",
            "Requirement already satisfied: google-pasta>=0.1.1 in /usr/local/lib/python3.9/dist-packages (from tensorflow>=2.9.0->tensorflow-recommenders) (0.2.0)\n",
            "Requirement already satisfied: wheel<1.0,>=0.23.0 in /usr/local/lib/python3.9/dist-packages (from astunparse>=1.6.0->tensorflow>=2.9.0->tensorflow-recommenders) (0.40.0)\n",
            "Requirement already satisfied: ml-dtypes>=0.0.3 in /usr/local/lib/python3.9/dist-packages (from jax>=0.3.15->tensorflow>=2.9.0->tensorflow-recommenders) (0.1.0)\n",
            "Requirement already satisfied: scipy>=1.7 in /usr/local/lib/python3.9/dist-packages (from jax>=0.3.15->tensorflow>=2.9.0->tensorflow-recommenders) (1.10.1)\n",
            "Requirement already satisfied: markdown>=2.6.8 in /usr/local/lib/python3.9/dist-packages (from tensorboard<2.13,>=2.12->tensorflow>=2.9.0->tensorflow-recommenders) (3.4.3)\n",
            "Requirement already satisfied: tensorboard-plugin-wit>=1.6.0 in /usr/local/lib/python3.9/dist-packages (from tensorboard<2.13,>=2.12->tensorflow>=2.9.0->tensorflow-recommenders) (1.8.1)\n",
            "Requirement already satisfied: tensorboard-data-server<0.8.0,>=0.7.0 in /usr/local/lib/python3.9/dist-packages (from tensorboard<2.13,>=2.12->tensorflow>=2.9.0->tensorflow-recommenders) (0.7.0)\n",
            "Requirement already satisfied: google-auth-oauthlib<1.1,>=0.5 in /usr/local/lib/python3.9/dist-packages (from tensorboard<2.13,>=2.12->tensorflow>=2.9.0->tensorflow-recommenders) (1.0.0)\n",
            "Requirement already satisfied: google-auth<3,>=1.6.3 in /usr/local/lib/python3.9/dist-packages (from tensorboard<2.13,>=2.12->tensorflow>=2.9.0->tensorflow-recommenders) (2.17.3)\n",
            "Requirement already satisfied: requests<3,>=2.21.0 in /usr/local/lib/python3.9/dist-packages (from tensorboard<2.13,>=2.12->tensorflow>=2.9.0->tensorflow-recommenders) (2.27.1)\n",
            "Requirement already satisfied: werkzeug>=1.0.1 in /usr/local/lib/python3.9/dist-packages (from tensorboard<2.13,>=2.12->tensorflow>=2.9.0->tensorflow-recommenders) (2.2.3)\n",
            "Requirement already satisfied: rsa<5,>=3.1.4 in /usr/local/lib/python3.9/dist-packages (from google-auth<3,>=1.6.3->tensorboard<2.13,>=2.12->tensorflow>=2.9.0->tensorflow-recommenders) (4.9)\n",
            "Requirement already satisfied: pyasn1-modules>=0.2.1 in /usr/local/lib/python3.9/dist-packages (from google-auth<3,>=1.6.3->tensorboard<2.13,>=2.12->tensorflow>=2.9.0->tensorflow-recommenders) (0.2.8)\n",
            "Requirement already satisfied: cachetools<6.0,>=2.0.0 in /usr/local/lib/python3.9/dist-packages (from google-auth<3,>=1.6.3->tensorboard<2.13,>=2.12->tensorflow>=2.9.0->tensorflow-recommenders) (5.3.0)\n",
            "Requirement already satisfied: requests-oauthlib>=0.7.0 in /usr/local/lib/python3.9/dist-packages (from google-auth-oauthlib<1.1,>=0.5->tensorboard<2.13,>=2.12->tensorflow>=2.9.0->tensorflow-recommenders) (1.3.1)\n",
            "Requirement already satisfied: importlib-metadata>=4.4 in /usr/local/lib/python3.9/dist-packages (from markdown>=2.6.8->tensorboard<2.13,>=2.12->tensorflow>=2.9.0->tensorflow-recommenders) (6.4.1)\n",
            "Requirement already satisfied: idna<4,>=2.5 in /usr/local/lib/python3.9/dist-packages (from requests<3,>=2.21.0->tensorboard<2.13,>=2.12->tensorflow>=2.9.0->tensorflow-recommenders) (3.4)\n",
            "Requirement already satisfied: urllib3<1.27,>=1.21.1 in /usr/local/lib/python3.9/dist-packages (from requests<3,>=2.21.0->tensorboard<2.13,>=2.12->tensorflow>=2.9.0->tensorflow-recommenders) (1.26.15)\n",
            "Requirement already satisfied: charset-normalizer~=2.0.0 in /usr/local/lib/python3.9/dist-packages (from requests<3,>=2.21.0->tensorboard<2.13,>=2.12->tensorflow>=2.9.0->tensorflow-recommenders) (2.0.12)\n",
            "Requirement already satisfied: certifi>=2017.4.17 in /usr/local/lib/python3.9/dist-packages (from requests<3,>=2.21.0->tensorboard<2.13,>=2.12->tensorflow>=2.9.0->tensorflow-recommenders) (2022.12.7)\n",
            "Requirement already satisfied: MarkupSafe>=2.1.1 in /usr/local/lib/python3.9/dist-packages (from werkzeug>=1.0.1->tensorboard<2.13,>=2.12->tensorflow>=2.9.0->tensorflow-recommenders) (2.1.2)\n",
            "Requirement already satisfied: zipp>=0.5 in /usr/local/lib/python3.9/dist-packages (from importlib-metadata>=4.4->markdown>=2.6.8->tensorboard<2.13,>=2.12->tensorflow>=2.9.0->tensorflow-recommenders) (3.15.0)\n",
            "Requirement already satisfied: pyasn1<0.5.0,>=0.4.6 in /usr/local/lib/python3.9/dist-packages (from pyasn1-modules>=0.2.1->google-auth<3,>=1.6.3->tensorboard<2.13,>=2.12->tensorflow>=2.9.0->tensorflow-recommenders) (0.4.8)\n",
            "Requirement already satisfied: oauthlib>=3.0.0 in /usr/local/lib/python3.9/dist-packages (from requests-oauthlib>=0.7.0->google-auth-oauthlib<1.1,>=0.5->tensorboard<2.13,>=2.12->tensorflow>=2.9.0->tensorflow-recommenders) (3.2.2)\n",
            "Installing collected packages: tensorflow-recommenders\n",
            "Successfully installed tensorflow-recommenders-0.7.3\n"
          ]
        }
      ],
      "source": [
        "!pip install tensorflow-recommenders"
      ]
    },
    {
      "cell_type": "code",
      "execution_count": 7,
      "metadata": {
        "id": "L6Me9H8dgxfT"
      },
      "outputs": [],
      "source": [
        "import tensorflow_recommenders as tfrs"
      ]
    },
    {
      "cell_type": "code",
      "execution_count": 8,
      "metadata": {
        "colab": {
          "base_uri": "https://localhost:8080/"
        },
        "id": "WljWiiO3ZahF",
        "outputId": "8a49f813-f127-4bd3-c3e0-6c2c306dd39d"
      },
      "outputs": [
        {
          "output_type": "stream",
          "name": "stdout",
          "text": [
            "Mounted at /content/drive\n"
          ]
        }
      ],
      "source": [
        "from google.colab import drive\n",
        "drive.mount('/content/drive')"
      ]
    },
    {
      "cell_type": "code",
      "execution_count": 9,
      "metadata": {
        "id": "hBxStEDOZA1T"
      },
      "outputs": [],
      "source": [
        "BATCH_SIZE=1024\n",
        "NROWS=10000\n",
        "\n",
        "INTERACTIONS_RAW = '/content/drive/MyDrive/data/food_recipes/RAW_interactions.csv'\n",
        "RECIPES_RAW = '/content/drive/MyDrive/data/food_recipes/RAW_recipes.csv'"
      ]
    },
    {
      "cell_type": "markdown",
      "source": [
        "### Download data"
      ],
      "metadata": {
        "id": "zu7OCYb6PF7Y"
      }
    },
    {
      "cell_type": "markdown",
      "source": [
        "For this analysis we will the food recipe data set that was provided by **[Majumder et al]**. This dataset consists of 180K+ recipes and 700K+ recipe reviews covering 18 years of user interactions and uploads on Food.com. \n",
        "\n",
        "The dataset can be downloaded from https://www.kaggle.com/datasets/shuyangli94/food-com-recipes-and-user-interactions\n",
        "\n",
        "For this proof-of-concept analysis we will only use the first 10000 user interactions and recipes in order to speed up the analysis."
      ],
      "metadata": {
        "id": "GcbCZZddPJqf"
      }
    },
    {
      "cell_type": "code",
      "execution_count": 10,
      "metadata": {
        "colab": {
          "base_uri": "https://localhost:8080/"
        },
        "id": "wOx_pu9Ae2iZ",
        "outputId": "b8958a96-7ff5-4c48-8ab1-5cf9c14a8041"
      },
      "outputs": [
        {
          "output_type": "stream",
          "name": "stdout",
          "text": [
            "9998 reviews found\n"
          ]
        }
      ],
      "source": [
        "NR_INTERACTIONS=len(pd.read_csv(INTERACTIONS_RAW, nrows=NROWS).dropna().index)\n",
        "print(f\"{NR_INTERACTIONS} reviews found\")"
      ]
    },
    {
      "cell_type": "code",
      "source": [
        "# Download dataset using Kaggle CLI\n",
        "# !kaggle datasets download shuyangli94/food-com-recipes-and-user-interactions"
      ],
      "metadata": {
        "id": "NRN9g4sxQVG4"
      },
      "execution_count": 11,
      "outputs": []
    },
    {
      "cell_type": "markdown",
      "source": [
        "### Exploratory data Analysis"
      ],
      "metadata": {
        "id": "-OKL5ZsI_bYD"
      }
    },
    {
      "cell_type": "markdown",
      "source": [
        "Recommender systems typically suffer from the 'long-tail' problem. This refers to the situation where a large number of items have very few interactions or ratings, while a small number of items have a large number of interactions or ratings. This leads to a skewed distribution of data, where the majority of the recommendations are focused on popular items, and the niche or less popular items are often neglected. This poses a challenge for recommender systems because they need to provide relevant recommendations to users for all items, not just the popular ones.\n",
        "\n",
        "For our food recipe recommender system this would mean that a large fraction of recipes have received few ratings and a small fraction of recipes has received a high number of ratings.\n",
        "\n",
        "When we plot the number of reviews per recipe using a density plot, we can see that the food recipes data set also exhibits the long-tail pattern."
      ],
      "metadata": {
        "id": "EkLUlCRZQ9bx"
      }
    },
    {
      "cell_type": "code",
      "source": [
        "counts_df = pd.read_csv(INTERACTIONS_RAW, nrows=NROWS)[\"recipe_id\"].value_counts()"
      ],
      "metadata": {
        "id": "PYO1Xg_dBV8b"
      },
      "execution_count": 12,
      "outputs": []
    },
    {
      "cell_type": "code",
      "execution_count": 13,
      "metadata": {
        "colab": {
          "base_uri": "https://localhost:8080/",
          "height": 472
        },
        "id": "VClqwsTzZA1U",
        "outputId": "4b965c55-814e-4f84-f433-50e8a8a23cb1"
      },
      "outputs": [
        {
          "output_type": "display_data",
          "data": {
            "text/plain": [
              "<Figure size 640x480 with 1 Axes>"
            ],
            "image/png": "[encoded data removed]"
          },
          "metadata": {}
        }
      ],
      "source": [
        "sns.kdeplot(counts_df)\n",
        "plt.xlabel('Number of reviews')\n",
        "plt.title('Number of reviews per recipe');\n"
      ]
    },
    {
      "cell_type": "markdown",
      "source": [
        "We can further zoom in and see that many reviews have 20 reviews or less, with a majority having received rating 0 or 1."
      ],
      "metadata": {
        "id": "L7-La5jZR_kk"
      }
    },
    {
      "cell_type": "code",
      "source": [
        "sns.histplot(\n",
        "    counts_df,\n",
        "    bins=800,\n",
        "    discrete=True,\n",
        ")\n",
        "plt.xlabel('Number of reviews')\n",
        "plt.ylabel('Nr of recipes')\n",
        "plt.xlim(0,20)\n",
        "plt.title('Number of reviews per recipe (<20)');"
      ],
      "metadata": {
        "colab": {
          "base_uri": "https://localhost:8080/",
          "height": 472
        },
        "id": "5JepYait5Ofa",
        "outputId": "d9f2ea26-4c07-471e-f340-7c67bb4d8d87"
      },
      "execution_count": 14,
      "outputs": [
        {
          "output_type": "display_data",
          "data": {
            "text/plain": [
              "<Figure size 640x480 with 1 Axes>"
            ],
            "image/png": "[encoded data removed]"
          },
          "metadata": {}
        }
      ]
    },
    {
      "cell_type": "markdown",
      "metadata": {
        "id": "5aKuFnAcZA1Y"
      },
      "source": [
        "### Load item data (recipes)"
      ]
    },
    {
      "cell_type": "markdown",
      "source": [
        "We will load the recipe data into a Tensorflow data set and extract the `recipe_id` column. Note that the recipe IDs are imported as a string rather than an integer, which will become important when passing the values into the user model for our retrieval system."
      ],
      "metadata": {
        "id": "beA7Zb3KSmED"
      }
    },
    {
      "cell_type": "code",
      "execution_count": 15,
      "metadata": {
        "id": "r2UOKN15ZA1Z"
      },
      "outputs": [],
      "source": [
        "def load_recipes(file_path=RECIPES_RAW, nrows=NROWS):\n",
        "    \"\"\"Load the recipes data into Tensorflow dataset\n",
        "\n",
        "    Args:\n",
        "        file_path (str, optional): path to csv file with recipes data.\n",
        "        nrows (int, optional): nr of rows to import. Defaults to 1000.\n",
        "\n",
        "    Returns:\n",
        "        Tensorflow.dataset: Tensorflow dataset\n",
        "    \"\"\"\n",
        "    recipes_df = pd.read_csv(\n",
        "        file_path,\n",
        "        usecols=[\"id\", \"name\", \"description\", \"tags\", \"steps\", \"ingredients\"],\n",
        "        nrows=nrows,\n",
        "    )\n",
        "    recipes_df[\"name\"] = recipes_df[\"name\"]\n",
        "    recipes_df[\"tags\"] = recipes_df[\"tags\"].apply(literal_eval).str.join(\" \")\n",
        "    recipes_df[\"description\"] = recipes_df[\"description\"]\n",
        "    recipes_df[\"ingredients\"] = (\n",
        "        recipes_df[\"ingredients\"].apply(literal_eval).str.join(\" \")\n",
        "    )\n",
        "    recipes_df[\"steps\"] = recipes_df[\"steps\"].apply(literal_eval).str.join(\" \")\n",
        "    recipes_df = recipes_df[\n",
        "        [\"id\", \"name\", \"tags\", \"description\", \"ingredients\", \"steps\"]\n",
        "    ]\n",
        "    recipes_df.rename(columns={\"id\": \"recipe_id\"}, inplace=True)\n",
        "    recipes_df[\"recipe_id\"] = recipes_df[\"recipe_id\"].astype(str)\n",
        "    recipes_df.fillna(\"\", inplace=True)\n",
        "    recipes_ds = tf.data.Dataset.from_tensor_slices(dict(recipes_df))\n",
        "    return recipes_ds"
      ]
    },
    {
      "cell_type": "code",
      "execution_count": 16,
      "metadata": {
        "id": "1F2YEDVHZA1b"
      },
      "outputs": [],
      "source": [
        "items_ds = load_recipes()\n",
        "recipes_ds = items_ds.map(lambda x: {'recipe_id': x['recipe_id']})"
      ]
    },
    {
      "cell_type": "code",
      "execution_count": 17,
      "metadata": {
        "colab": {
          "base_uri": "https://localhost:8080/"
        },
        "id": "8f9q2j2bZA1c",
        "outputId": "dafaf60f-85d2-402f-9f61-54f43d89f6f4"
      },
      "outputs": [
        {
          "output_type": "stream",
          "name": "stdout",
          "text": [
            "{'recipe_id': b'137739'}\n",
            "{'recipe_id': b'31490'}\n",
            "{'recipe_id': b'112140'}\n",
            "{'recipe_id': b'59389'}\n",
            "{'recipe_id': b'44061'}\n"
          ]
        }
      ],
      "source": [
        "for x in recipes_ds.take(5).as_numpy_iterator():\n",
        "    pprint.pprint(x)"
      ]
    },
    {
      "cell_type": "markdown",
      "metadata": {
        "id": "lAzpm7njZA1d"
      },
      "source": [
        "### Load user data (rated recipes)"
      ]
    },
    {
      "cell_type": "markdown",
      "source": [
        "We wil alos load the user interacting data and extract columns `user_id` and `recipe_id`. Similarly as the recipe data, the user and recipe IDs are imported as strings rather than IDs."
      ],
      "metadata": {
        "id": "3z0Y7tH9TbCu"
      }
    },
    {
      "cell_type": "code",
      "execution_count": 18,
      "metadata": {
        "id": "Pw1tOL_6ZA1e"
      },
      "outputs": [],
      "source": [
        "def load_ratings(file_path=INTERACTIONS_RAW, nrows=NROWS):\n",
        "    \"\"\"Load ratings into Tensorflow dataset\n",
        "\n",
        "    Returns:\n",
        "        Tensorflow.dataset: Tensorflow dataset with ratings\n",
        "    \"\"\"\n",
        "\n",
        "    ratings_df = pd.read_csv(\n",
        "        file_path,\n",
        "        usecols=[\"user_id\", \"recipe_id\", \"date\", \"rating\", \"review\"],\n",
        "        nrows=nrows,\n",
        "    )\n",
        "\n",
        "    ratings_df[\"user_id\"] = ratings_df[\"user_id\"].astype(str)\n",
        "    ratings_df[\"recipe_id\"] = ratings_df[\"recipe_id\"].astype(str)\n",
        "    ratings_df.fillna(\"\", inplace=True)\n",
        "    ratings_ds = tf.data.Dataset.from_tensor_slices(dict(ratings_df))\n",
        "    return ratings_ds"
      ]
    },
    {
      "cell_type": "code",
      "execution_count": 21,
      "metadata": {
        "id": "e7heyuvjZA1f"
      },
      "outputs": [],
      "source": [
        "ratings_ds = load_ratings()\n",
        "users_ds = ratings_ds.map(\n",
        "    lambda x: {\"user_id\": x['user_id'], \"recipe_id\": x['recipe_id']}\n",
        ")"
      ]
    },
    {
      "cell_type": "code",
      "execution_count": 22,
      "metadata": {
        "colab": {
          "base_uri": "https://localhost:8080/"
        },
        "id": "E1VZdRhZZA1g",
        "outputId": "1be87923-69fe-4ff3-a7ec-077dec8cc7d3"
      },
      "outputs": [
        {
          "output_type": "stream",
          "name": "stdout",
          "text": [
            "{'recipe_id': b'40893', 'user_id': b'38094'}\n",
            "{'recipe_id': b'40893', 'user_id': b'1293707'}\n",
            "{'recipe_id': b'44394', 'user_id': b'8937'}\n",
            "{'recipe_id': b'85009', 'user_id': b'126440'}\n",
            "{'recipe_id': b'85009', 'user_id': b'57222'}\n"
          ]
        }
      ],
      "source": [
        "for x in users_ds.take(5).as_numpy_iterator():\n",
        "    pprint.pprint(x)"
      ]
    },
    {
      "cell_type": "markdown",
      "metadata": {
        "id": "Wq2sFNbTZA1k"
      },
      "source": [
        "### Create train and test sets"
      ]
    },
    {
      "cell_type": "markdown",
      "source": [
        "We will shuffle the user interaction data and divide it into a training and test dataset using a 80/20 split. "
      ],
      "metadata": {
        "id": "Bfqh7Y9ZTkvG"
      }
    },
    {
      "cell_type": "code",
      "execution_count": 19,
      "metadata": {
        "id": "jTRUS60bfowI",
        "colab": {
          "base_uri": "https://localhost:8080/"
        },
        "outputId": "8b9bbcd3-6e89-43a6-95fd-b74c54a9996a"
      },
      "outputs": [
        {
          "output_type": "stream",
          "name": "stdout",
          "text": [
            "7998 samples in train set\n",
            "2000 samples in test set\n"
          ]
        }
      ],
      "source": [
        "NR_TRAIN = int(np.floor(0.8 * NR_INTERACTIONS))\n",
        "NR_TEST = NR_INTERACTIONS - NR_TRAIN\n",
        "\n",
        "print(f\"{NR_TRAIN} samples in train set\")\n",
        "print(f\"{NR_TEST} samples in test set\")"
      ]
    },
    {
      "cell_type": "code",
      "execution_count": 40,
      "metadata": {
        "id": "aTEbCHjxcdw6"
      },
      "outputs": [],
      "source": [
        "tf.random.set_seed(42)\n",
        "shuffled_ds = users_ds.shuffle(NROWS, seed=42, reshuffle_each_iteration=False)\n",
        "\n",
        "train_ds = shuffled_ds.take(NR_TRAIN)\n",
        "test_ds = shuffled_ds.skip(NR_TRAIN).take(NR_TEST)"
      ]
    },
    {
      "cell_type": "markdown",
      "metadata": {
        "id": "iiGr2si0ZA1m"
      },
      "source": [
        "## Build Retrieval Model"
      ]
    },
    {
      "cell_type": "markdown",
      "source": [
        "For building a retrieval model, we will use a **two-tower model** as neural network architecture. The two-tower model is a type of neural network architecture that is commonly used in recommendation systems. It is so-called because it consists of two \"towers\" or branches of neural networks that process two different types of inputs.\n",
        "\n",
        "The first tower is called the **user tower** (or query tower), and it takes in user-specific data, such as past behavior, and ratings history. The input data is typically represented as a sparse vector, where each entry corresponds to a particular feature or attribute of the user. The user tower maps this input vector into a lower-dimensional latent space, where each user is represented as a dense vector of continuous values.\n",
        "\n",
        "The second tower is called the **item tower** (or candidate tower) and it takes in item-specific data, such as item descriptions, metadata, and attributes. The item tower similarly maps the input data into the same latent space as the user tower, where each item is represented as a dense vector of continuous values.\n",
        "\n",
        "Once the user and item vectors are obtained, they are combined and passed through a final neural network layer to predict the user's preference or likelihood of interacting with the item. This can be done using a variety of techniques, such as dot product or cosine similarity between the user and item vectors.\n",
        "\n",
        "The two-tower model is powerful because it allows for efficient processing of sparse and high-dimensional input data, while also enabling the learning of non-linear interactions between user and item features."
      ],
      "metadata": {
        "id": "2d-am2JKVX_l"
      }
    },
    {
      "cell_type": "markdown",
      "metadata": {
        "id": "wdgjbCBkZA1l"
      },
      "source": [
        "### Embedding dimensions"
      ]
    },
    {
      "cell_type": "markdown",
      "source": [
        "Before building the user and item models, we will get all unique user and recipe IDs, which will be used as fixed vocabularies for the `StringLookup` layer and are also necessary to determine the dimension of the subsequent `Embedding` layer."
      ],
      "metadata": {
        "id": "jdHiMz5gAIc8"
      }
    },
    {
      "cell_type": "code",
      "execution_count": 24,
      "metadata": {
        "colab": {
          "base_uri": "https://localhost:8080/"
        },
        "id": "x7Wenx8WZA1l",
        "outputId": "6c7b00aa-d0bb-4e03-80b5-a1a2717aef04"
      },
      "outputs": [
        {
          "output_type": "stream",
          "name": "stdout",
          "text": [
            "Nr of unique recipes: 10000\n",
            "Nr of unique users: 6451\n"
          ]
        }
      ],
      "source": [
        "recipe_ids = recipes_ds.batch(BATCH_SIZE).map(lambda x: x[\"recipe_id\"])\n",
        "rating_ids = ratings_ds.batch(BATCH_SIZE).map(lambda x: x[\"user_id\"])\n",
        "\n",
        "unique_recipe_ids = np.unique(np.concatenate(list(recipe_ids)))\n",
        "unique_user_ids = np.unique(np.concatenate(list(rating_ids)))\n",
        "\n",
        "print(f\"Nr of unique recipes: {len(unique_recipe_ids)}\")\n",
        "print(f\"Nr of unique users: {len(unique_user_ids)}\")"
      ]
    },
    {
      "cell_type": "code",
      "execution_count": 25,
      "metadata": {
        "id": "mbRy5ZfFZA1n"
      },
      "outputs": [],
      "source": [
        "embedding_dim = 32"
      ]
    },
    {
      "cell_type": "markdown",
      "metadata": {
        "id": "zaIiQHTVZA1n"
      },
      "source": [
        "### User tower"
      ]
    },
    {
      "cell_type": "markdown",
      "source": [
        "For the user tower we will build a user representation model which consists of two Keras layers: i.e. a `StringLookup` and an `Embedding` layer. The `StringLookup` layer is a preprocessing layer which maps string features (i.e. the user IDs) to integer indices. For creating the lookup indices, the unique user IDs are used as a fixed vocbulary, where each user ID in the vocabulary maps to a specific index. Those indices are then passed into the `Embedding` layer, which is a dense layer with a fixed dimensionality. We will also add $L2$ regularization to the embedding layer to reduce the risk of overfitting the model.\n",
        "\n",
        "This user model can then be used as query model, which computes the query representation (i.e. fixed-dimensionality embedding vector) and passes the features to the next layer."
      ],
      "metadata": {
        "id": "LKfr_-QHX6RF"
      }
    },
    {
      "cell_type": "code",
      "source": [
        "user_model = tf.keras.Sequential(\n",
        "    [\n",
        "        tf.keras.layers.StringLookup(vocabulary=unique_user_ids, mask_token=None),\n",
        "        tf.keras.layers.Embedding(\n",
        "            # add 1 to embedding dimension to account for unknown tokens\n",
        "            len(unique_user_ids) + 1, \n",
        "            embedding_dim,\n",
        "            embeddings_regularizer=tf.keras.regularizers.L2(0.2)\n",
        "        ),\n",
        "    ]\n",
        ")\n"
      ],
      "metadata": {
        "id": "AChL3ugGfO-8"
      },
      "execution_count": 26,
      "outputs": []
    },
    {
      "cell_type": "markdown",
      "metadata": {
        "id": "sGnodCLbZA1o"
      },
      "source": [
        "### Item tower"
      ]
    },
    {
      "cell_type": "markdown",
      "source": [
        "Similarly as the user tower, we will build an item model for the recipes, which will map all recipe IDs into an fixed-size embedding.\n",
        "\n",
        "\n",
        "Thiis item model will then be used as candidate model, which computes the candidate representation for the recipes (i.e. fixed-dimensionality embedding vector) and passes the features to the next layer."
      ],
      "metadata": {
        "id": "oOdhs4HdaU9g"
      }
    },
    {
      "cell_type": "code",
      "execution_count": 27,
      "metadata": {
        "id": "fGCEd2-tZA1q"
      },
      "outputs": [],
      "source": [
        "item_model = tf.keras.Sequential(\n",
        "    [\n",
        "        tf.keras.layers.StringLookup(vocabulary=unique_recipe_ids, mask_token=None),\n",
        "        tf.keras.layers.Embedding(\n",
        "            # add 1 to embedding dimension to account for unknown tokens\n",
        "            len(unique_recipe_ids) + 1,\n",
        "            embedding_dim,\n",
        "            embeddings_regularizer=tf.keras.regularizers.L2(0.2)\n",
        "        ),\n",
        "    ]\n",
        ")"
      ]
    },
    {
      "cell_type": "markdown",
      "metadata": {
        "id": "ZyvRrWkzZA1q"
      },
      "source": [
        "### Retrieval Model"
      ]
    },
    {
      "cell_type": "markdown",
      "source": [
        "We can now put eveything together into the a `TFRS model`. TFRS classes are derived from Tensorflow base classes that can be used to combine an item model, user model and retrieval task into a retrieval model. \n",
        "\n",
        "The retrieval task is an additional Keras layer that will be used as final layer to combine the user and item embeddings and compute the loss function and metrics.\n",
        "\n",
        "The retrievavl task subsequently computes the `tfrs.metrics.FactorizedTopK metric` to compare candidate pairs and retrieve the top K candidates.\n",
        "\n",
        "Essentially, the training dataset consists of pairs of positive (user ID, recipe ID) matches. To assess the efficacy of our model, we must compare the affinity score computed by the model for this pair against the scores of every other potential candidate pairs. If the score assigned to the positive pair surpasses that of all other candidates, it indicates high precision and accuracy in our model. \n",
        "\n"
      ],
      "metadata": {
        "id": "jfOIJHXwi3Fs"
      }
    },
    {
      "cell_type": "code",
      "execution_count": 28,
      "metadata": {
        "id": "YI7h3d00ZA1r"
      },
      "outputs": [],
      "source": [
        "class RetrievalModel(tfrs.Model):\n",
        "    \"\"\"Food recipe prediction model\"\"\"\n",
        "\n",
        "    def __init__(self, user_model, item_model, batch_size=BATCH_SIZE):\n",
        "        # Use init method from base class to set up model architecture.\n",
        "        super().__init__()\n",
        "\n",
        "        # Add recipe representations model\n",
        "        self.item_model = item_model\n",
        "\n",
        "        # Add user representation mdodel\n",
        "        self.user_model = user_model\n",
        "\n",
        "        # Set batch size\n",
        "        self.eval_batch_size = batch_size\n",
        "\n",
        "        # The task computes the loss and metrics\n",
        "        self.task = tfrs.tasks.Retrieval(\n",
        "            metrics=tfrs.metrics.FactorizedTopK(\n",
        "                candidates=recipes_ds.map(lambda x: x[\"recipe_id\"]).batch(self.eval_batch_size).map(self.item_model)\n",
        "            )\n",
        "        )\n",
        "\n",
        "\n",
        "    def compute_loss(self, features: Dict[Text, tf.Tensor], training=False) -> tf.Tensor:\n",
        "        \n",
        "        # Get user features and pass them into the user model\n",
        "        user_embeddings = self.user_model(features[\"user_id\"])\n",
        "\n",
        "        # Get recipe features and pass them into the recipe model\n",
        "        item_embeddings = self.item_model(features[\"recipe_id\"])\n",
        "\n",
        "        # Compute the loss and the metrics.\n",
        "        return self.task(user_embeddings, item_embeddings)\n"
      ]
    },
    {
      "cell_type": "markdown",
      "source": [
        "We can initialize the model using the previously defined user and item models. We will also add the `Adagrad` optimizer to train the retrieval model."
      ],
      "metadata": {
        "id": "OT_CNDJppV-h"
      }
    },
    {
      "cell_type": "code",
      "execution_count": 41,
      "metadata": {
        "id": "vwvkAMz8ZA1s"
      },
      "outputs": [],
      "source": [
        "model = RetrievalModel(user_model, item_model)\n",
        "model.compile(optimizer=tf.keras.optimizers.Adagrad(learning_rate=0.1))"
      ]
    },
    {
      "cell_type": "markdown",
      "metadata": {
        "id": "en9CKflOZA1s"
      },
      "source": [
        "## Train retrieval model"
      ]
    },
    {
      "cell_type": "markdown",
      "source": [
        "We ca now fit the retrieval model on the training data."
      ],
      "metadata": {
        "id": "PFSA9v58pv61"
      }
    },
    {
      "cell_type": "code",
      "execution_count": 42,
      "metadata": {
        "id": "IpHg30rEZA1t"
      },
      "outputs": [],
      "source": [
        "cached_train_ds = train_ds.shuffle(NR_TRAIN).batch(BATCH_SIZE).cache()\n",
        "cached_test_ds = test_ds.batch(BATCH_SIZE).cache()"
      ]
    },
    {
      "cell_type": "code",
      "execution_count": 43,
      "metadata": {
        "colab": {
          "base_uri": "https://localhost:8080/"
        },
        "id": "h4S2yNFUZA1u",
        "outputId": "953adca6-1a42-4a1c-8b5e-facf5f96d0e3"
      },
      "outputs": [
        {
          "output_type": "stream",
          "name": "stdout",
          "text": [
            "Epoch 1/7\n",
            "8/8 [==============================] - 8s 698ms/step - factorized_top_k/top_1_categorical_accuracy: 0.1509 - factorized_top_k/top_5_categorical_accuracy: 0.1762 - factorized_top_k/top_10_categorical_accuracy: 0.1873 - factorized_top_k/top_50_categorical_accuracy: 0.2267 - factorized_top_k/top_100_categorical_accuracy: 0.2449 - loss: 6760.2523 - regularization_loss: 38.0576 - total_loss: 6798.3099\n",
            "Epoch 2/7\n",
            "8/8 [==============================] - 7s 940ms/step - factorized_top_k/top_1_categorical_accuracy: 0.5178 - factorized_top_k/top_5_categorical_accuracy: 0.5563 - factorized_top_k/top_10_categorical_accuracy: 0.5646 - factorized_top_k/top_50_categorical_accuracy: 0.5815 - factorized_top_k/top_100_categorical_accuracy: 0.5863 - loss: 6759.4039 - regularization_loss: 5.3024 - total_loss: 6764.7062\n",
            "Epoch 3/7\n",
            "8/8 [==============================] - 6s 738ms/step - factorized_top_k/top_1_categorical_accuracy: 0.8072 - factorized_top_k/top_5_categorical_accuracy: 0.8237 - factorized_top_k/top_10_categorical_accuracy: 0.8276 - factorized_top_k/top_50_categorical_accuracy: 0.8408 - factorized_top_k/top_100_categorical_accuracy: 0.8433 - loss: 6754.7173 - regularization_loss: 4.5592 - total_loss: 6759.2766\n",
            "Epoch 4/7\n",
            "8/8 [==============================] - 4s 494ms/step - factorized_top_k/top_1_categorical_accuracy: 0.8995 - factorized_top_k/top_5_categorical_accuracy: 0.9087 - factorized_top_k/top_10_categorical_accuracy: 0.9121 - factorized_top_k/top_50_categorical_accuracy: 0.9239 - factorized_top_k/top_100_categorical_accuracy: 0.9286 - loss: 6740.5253 - regularization_loss: 11.3554 - total_loss: 6751.8808\n",
            "Epoch 5/7\n",
            "8/8 [==============================] - 5s 599ms/step - factorized_top_k/top_1_categorical_accuracy: 0.9022 - factorized_top_k/top_5_categorical_accuracy: 0.9109 - factorized_top_k/top_10_categorical_accuracy: 0.9152 - factorized_top_k/top_50_categorical_accuracy: 0.9261 - factorized_top_k/top_100_categorical_accuracy: 0.9310 - loss: 6718.8166 - regularization_loss: 20.4694 - total_loss: 6739.2860\n",
            "Epoch 6/7\n",
            "8/8 [==============================] - 6s 706ms/step - factorized_top_k/top_1_categorical_accuracy: 0.9052 - factorized_top_k/top_5_categorical_accuracy: 0.9120 - factorized_top_k/top_10_categorical_accuracy: 0.9169 - factorized_top_k/top_50_categorical_accuracy: 0.9276 - factorized_top_k/top_100_categorical_accuracy: 0.9316 - loss: 6702.6898 - regularization_loss: 26.6876 - total_loss: 6729.3774\n",
            "Epoch 7/7\n",
            "8/8 [==============================] - 4s 514ms/step - factorized_top_k/top_1_categorical_accuracy: 0.9046 - factorized_top_k/top_5_categorical_accuracy: 0.9115 - factorized_top_k/top_10_categorical_accuracy: 0.9161 - factorized_top_k/top_50_categorical_accuracy: 0.9277 - factorized_top_k/top_100_categorical_accuracy: 0.9300 - loss: 6695.9886 - regularization_loss: 28.5864 - total_loss: 6724.5750\n"
          ]
        }
      ],
      "source": [
        "history = model.fit(cached_train_ds, epochs=7)"
      ]
    },
    {
      "cell_type": "markdown",
      "source": [
        "We can save the mobdel weights. These weights can be used to restore the trained model when deploying the retrieval model into production."
      ],
      "metadata": {
        "id": "1cpCh_NTJt5d"
      }
    },
    {
      "cell_type": "code",
      "source": [
        "model.save_weights('/content/drive/MyDrive/projects/food_recsys/retrieval_model.weights.tf', save_format='tf')"
      ],
      "metadata": {
        "id": "uMRKQqElLrCn"
      },
      "execution_count": 44,
      "outputs": []
    },
    {
      "cell_type": "code",
      "source": [
        "# The retrieval model can be loaded from the saved weight as follows:\n",
        "#loaded_model = RetrievalModel(user_model, item_model)\n",
        "#loaded_model.load_weights('/content/drive/MyDrive/projects/food_recsys/retrieval_model.weights.tf)"
      ],
      "metadata": {
        "id": "OFy-aR8sKOP0"
      },
      "execution_count": null,
      "outputs": []
    },
    {
      "cell_type": "markdown",
      "source": [
        "We can plot the loss and top K accuracy to assess training performance. We can see that loss is decreasing and accuracy is increasing during training."
      ],
      "metadata": {
        "id": "5ETnSH4hKwRb"
      }
    },
    {
      "cell_type": "code",
      "execution_count": 53,
      "metadata": {
        "colab": {
          "base_uri": "https://localhost:8080/",
          "height": 805
        },
        "id": "d0nkY6cIZA1v",
        "outputId": "bfcfbc20-ff17-45ea-cf21-dc36efbb6e76"
      },
      "outputs": [
        {
          "output_type": "display_data",
          "data": {
            "text/plain": [
              "<Figure size 1000x800 with 2 Axes>"
            ],
            "image/png": "[encoded data removed]"
          },
          "metadata": {}
        }
      ],
      "source": [
        "plt.subplots(1, 2, figsize=(10, 8))\n",
        "plt.suptitle('Model training performance', fontsize=24, fontweight='bold')\n",
        "\n",
        "plt.subplot(2, 1, 1)\n",
        "plt.title('Loss', fontsize=18, fontweight='bold')\n",
        "plt.ylabel('loss')\n",
        "plt.plot(history.history['total_loss'])\n",
        "plt.legend(['total loss'], loc='upper right')\n",
        "\n",
        "plt.subplot(2, 1, 2)\n",
        "plt.title('Categorical accuracy', fontsize=18, fontweight='bold')\n",
        "plt.ylabel('categorical accuracy')\n",
        "plt.plot(history.history['factorized_top_k/top_1_categorical_accuracy'])\n",
        "plt.plot(history.history['factorized_top_k/top_10_categorical_accuracy'])\n",
        "plt.plot(history.history['factorized_top_k/top_50_categorical_accuracy'])\n",
        "plt.plot(history.history['factorized_top_k/top_100_categorical_accuracy'])\n",
        "plt.xlabel('epoch')\n",
        "plt.legend(['top 1', 'top 10', 'top 50', 'top 100'], loc='lower right')\n",
        "\n",
        "plt.tight_layout()\n",
        "plt.show();"
      ]
    },
    {
      "cell_type": "markdown",
      "source": [
        "## Evalutate retrieval model"
      ],
      "metadata": {
        "id": "LpA_5ASwfB2p"
      }
    },
    {
      "cell_type": "markdown",
      "source": [
        "Now that we have trained the retrieval model, we can evaluate model performance on the test set."
      ],
      "metadata": {
        "id": "goYTYAZsp4Q6"
      }
    },
    {
      "cell_type": "code",
      "execution_count": 54,
      "metadata": {
        "colab": {
          "base_uri": "https://localhost:8080/"
        },
        "id": "WtnD2oDUZA1w",
        "outputId": "23f563e0-3054-491e-fe69-ec4a504c0ef8"
      },
      "outputs": [
        {
          "output_type": "stream",
          "name": "stdout",
          "text": [
            "2/2 [==============================] - 2s 491ms/step - factorized_top_k/top_1_categorical_accuracy: 0.6195 - factorized_top_k/top_5_categorical_accuracy: 0.6300 - factorized_top_k/top_10_categorical_accuracy: 0.6305 - factorized_top_k/top_50_categorical_accuracy: 0.6370 - factorized_top_k/top_100_categorical_accuracy: 0.6375 - loss: 6850.4225 - regularization_loss: 29.1792 - total_loss: 6879.6017\n"
          ]
        }
      ],
      "source": [
        "test_results = model.evaluate(cached_test_ds, return_dict=True)"
      ]
    },
    {
      "cell_type": "code",
      "source": [
        "results_df = pd.DataFrame([{\n",
        "  'top 1': test_results['factorized_top_k/top_1_categorical_accuracy'],\n",
        "  'top 10': test_results['factorized_top_k/top_10_categorical_accuracy'],\n",
        "  'top 50': test_results['factorized_top_k/top_50_categorical_accuracy'],\n",
        "  'top 100':test_results['factorized_top_k/top_100_categorical_accuracy'],  \n",
        "}])\n",
        "\n",
        "results_df.T.rename(columns={0: 'categorical accuracy'})"
      ],
      "metadata": {
        "colab": {
          "base_uri": "https://localhost:8080/",
          "height": 175
        },
        "id": "9_9ItEY0dXDt",
        "outputId": "c2c94aab-d08c-41f6-8deb-2ffc6aad1abc"
      },
      "execution_count": 55,
      "outputs": [
        {
          "output_type": "execute_result",
          "data": {
            "text/plain": [
              "         categorical accuracy\n",
              "top 1                  0.6195\n",
              "top 10                 0.6305\n",
              "top 50                 0.6370\n",
              "top 100                0.6375"
            ],
            "text/html": [
              "\n",
              "  <div id=\"df-11397304-3733-49f1-8e70-17363e9710df\">\n",
              "    <div class=\"colab-df-container\">\n",
              "      <div>\n",
              "<style scoped>\n",
              "    .dataframe tbody tr th:only-of-type {\n",
              "        vertical-align: middle;\n",
              "    }\n",
              "\n",
              "    .dataframe tbody tr th {\n",
              "        vertical-align: top;\n",
              "    }\n",
              "\n",
              "    .dataframe thead th {\n",
              "        text-align: right;\n",
              "    }\n",
              "</style>\n",
              "<table border=\"1\" class=\"dataframe\">\n",
              "  <thead>\n",
              "    <tr style=\"text-align: right;\">\n",
              "      <th></th>\n",
              "      <th>categorical accuracy</th>\n",
              "    </tr>\n",
              "  </thead>\n",
              "  <tbody>\n",
              "    <tr>\n",
              "      <th>top 1</th>\n",
              "      <td>0.6195</td>\n",
              "    </tr>\n",
              "    <tr>\n",
              "      <th>top 10</th>\n",
              "      <td>0.6305</td>\n",
              "    </tr>\n",
              "    <tr>\n",
              "      <th>top 50</th>\n",
              "      <td>0.6370</td>\n",
              "    </tr>\n",
              "    <tr>\n",
              "      <th>top 100</th>\n",
              "      <td>0.6375</td>\n",
              "    </tr>\n",
              "  </tbody>\n",
              "</table>\n",
              "</div>\n",
              "      <button class=\"colab-df-convert\" onclick=\"convertToInteractive('df-11397304-3733-49f1-8e70-17363e9710df')\"\n",
              "              title=\"Convert this dataframe to an interactive table.\"\n",
              "              style=\"display:none;\">\n",
              "        \n",
              "  <svg xmlns=\"http://www.w3.org/2000/svg\" height=\"24px\"viewBox=\"0 0 24 24\"\n",
              "       width=\"24px\">\n",
              "    <path d=\"M0 0h24v24H0V0z\" fill=\"none\"/>\n",
              "    <path d=\"M18.56 5.44l.94 2.06.94-2.06 2.06-.94-2.06-.94-.94-2.06-.94 2.06-2.06.94zm-11 1L8.5 8.5l.94-2.06 2.06-.94-2.06-.94L8.5 2.5l-.94 2.06-2.06.94zm10 10l.94 2.06.94-2.06 2.06-.94-2.06-.94-.94-2.06-.94 2.06-2.06.94z\"/><path d=\"M17.41 7.96l-1.37-1.37c-.4-.4-.92-.59-1.43-.59-.52 0-1.04.2-1.43.59L10.3 9.45l-7.72 7.72c-.78.78-.78 2.05 0 2.83L4 21.41c.39.39.9.59 1.41.59.51 0 1.02-.2 1.41-.59l7.78-7.78 2.81-2.81c.8-.78.8-2.07 0-2.86zM5.41 20L4 18.59l7.72-7.72 1.47 1.35L5.41 20z\"/>\n",
              "  </svg>\n",
              "      </button>\n",
              "      \n",
              "  <style>\n",
              "    .colab-df-container {\n",
              "      display:flex;\n",
              "      flex-wrap:wrap;\n",
              "      gap: 12px;\n",
              "    }\n",
              "\n",
              "    .colab-df-convert {\n",
              "      background-color: #E8F0FE;\n",
              "      border: none;\n",
              "      border-radius: 50%;\n",
              "      cursor: pointer;\n",
              "      display: none;\n",
              "      fill: #1967D2;\n",
              "      height: 32px;\n",
              "      padding: 0 0 0 0;\n",
              "      width: 32px;\n",
              "    }\n",
              "\n",
              "    .colab-df-convert:hover {\n",
              "      background-color: #E2EBFA;\n",
              "      box-shadow: 0px 1px 2px rgba(60, 64, 67, 0.3), 0px 1px 3px 1px rgba(60, 64, 67, 0.15);\n",
              "      fill: #174EA6;\n",
              "    }\n",
              "\n",
              "    [theme=dark] .colab-df-convert {\n",
              "      background-color: #3B4455;\n",
              "      fill: #D2E3FC;\n",
              "    }\n",
              "\n",
              "    [theme=dark] .colab-df-convert:hover {\n",
              "      background-color: #434B5C;\n",
              "      box-shadow: 0px 1px 3px 1px rgba(0, 0, 0, 0.15);\n",
              "      filter: drop-shadow(0px 1px 2px rgba(0, 0, 0, 0.3));\n",
              "      fill: #FFFFFF;\n",
              "    }\n",
              "  </style>\n",
              "\n",
              "      <script>\n",
              "        const buttonEl =\n",
              "          document.querySelector('#df-11397304-3733-49f1-8e70-17363e9710df button.colab-df-convert');\n",
              "        buttonEl.style.display =\n",
              "          google.colab.kernel.accessAllowed ? 'block' : 'none';\n",
              "\n",
              "        async function convertToInteractive(key) {\n",
              "          const element = document.querySelector('#df-11397304-3733-49f1-8e70-17363e9710df');\n",
              "          const dataTable =\n",
              "            await google.colab.kernel.invokeFunction('convertToInteractive',\n",
              "                                                     [key], {});\n",
              "          if (!dataTable) return;\n",
              "\n",
              "          const docLinkHtml = 'Like what you see? Visit the ' +\n",
              "            '<a target=\"_blank\" href=https://colab.research.google.com/notebooks/data_table.ipynb>data table notebook</a>'\n",
              "            + ' to learn more about interactive tables.';\n",
              "          element.innerHTML = '';\n",
              "          dataTable['output_type'] = 'display_data';\n",
              "          await google.colab.output.renderOutput(dataTable, element);\n",
              "          const docLink = document.createElement('div');\n",
              "          docLink.innerHTML = docLinkHtml;\n",
              "          element.appendChild(docLink);\n",
              "        }\n",
              "      </script>\n",
              "    </div>\n",
              "  </div>\n",
              "  "
            ]
          },
          "metadata": {},
          "execution_count": 55
        }
      ]
    },
    {
      "cell_type": "code",
      "source": [
        "sns.barplot(results_df)\n",
        "\n",
        "plt.title('Performance on test set', fontsize=18, fontweight='bold')\n",
        "plt.xlabel('top k', fontsize=14)\n",
        "plt.ylabel('categorical accuracy', fontsize=14);"
      ],
      "metadata": {
        "colab": {
          "base_uri": "https://localhost:8080/",
          "height": 482
        },
        "id": "umi7dSApdTvM",
        "outputId": "0b0aaeb0-f74b-416b-85e8-3ac5a7a6da91"
      },
      "execution_count": 56,
      "outputs": [
        {
          "output_type": "display_data",
          "data": {
            "text/plain": [
              "<Figure size 640x480 with 1 Axes>"
            ],
            "image/png": "[encoded data removed]"
          },
          "metadata": {}
        }
      ]
    },
    {
      "cell_type": "markdown",
      "source": [
        "We can observe that our retrieval model performs worse on the test set compared to the training set. than training performance. This is mainly due to the following two factors:\n",
        "\n",
        "1. The model is overfitting because it is memorizing data that is has seen. Models with many parameters are prone to overfitting. We can mediate this by increasing the regularization in the embedding layers in the user and item models. We could also add an additional `Dropout` layer to both models.\n",
        "\n",
        "2. The model is re-recommending recipes that some users already rated. These known positives can push out the new test recipes from the top K recommendations. This could be mitigated by removing previously seen recipes from the test dataste."
      ],
      "metadata": {
        "id": "2BxqgzcseOrp"
      }
    },
    {
      "cell_type": "markdown",
      "metadata": {
        "id": "Go9msWuMZA1y"
      },
      "source": [
        "## Model predictions"
      ]
    },
    {
      "cell_type": "markdown",
      "source": [
        "We can now use the retrieval model to recommend recipe IDs for a given user ID.\n",
        "\n",
        "To annotate the retrieved recipe IDs, we will create a lookup table which maps recipe IDs to their description. "
      ],
      "metadata": {
        "id": "50aBfbK9d_pI"
      }
    },
    {
      "cell_type": "code",
      "execution_count": 64,
      "metadata": {
        "colab": {
          "base_uri": "https://localhost:8080/",
          "height": 206
        },
        "id": "nY8IZ5KMZA1y",
        "outputId": "4b667d33-0aca-4dc5-a036-9fd8e2e15dd9"
      },
      "outputs": [
        {
          "output_type": "execute_result",
          "data": {
            "text/plain": [
              "                                         name      id  \\\n",
              "0  arriba   baked winter squash mexican style  137739   \n",
              "1            a bit different  breakfast pizza   31490   \n",
              "2                   all in the kitchen  chili  112140   \n",
              "3                          alouette  potatoes   59389   \n",
              "4          amish  tomato ketchup  for canning   44061   \n",
              "\n",
              "                                         description  \n",
              "0  autumn is my favorite time of year to cook! th...  \n",
              "1  this recipe calls for the crust to be prebaked...  \n",
              "2  this modified version of 'mom's' chili was a h...  \n",
              "3  this is a super easy, great tasting, make ahea...  \n",
              "4  my dh's amish mother raised him on this recipe...  "
            ],
            "text/html": [
              "\n",
              "  <div id=\"df-a70ac21f-56fa-4f8a-8f1e-897d5091538e\">\n",
              "    <div class=\"colab-df-container\">\n",
              "      <div>\n",
              "<style scoped>\n",
              "    .dataframe tbody tr th:only-of-type {\n",
              "        vertical-align: middle;\n",
              "    }\n",
              "\n",
              "    .dataframe tbody tr th {\n",
              "        vertical-align: top;\n",
              "    }\n",
              "\n",
              "    .dataframe thead th {\n",
              "        text-align: right;\n",
              "    }\n",
              "</style>\n",
              "<table border=\"1\" class=\"dataframe\">\n",
              "  <thead>\n",
              "    <tr style=\"text-align: right;\">\n",
              "      <th></th>\n",
              "      <th>name</th>\n",
              "      <th>id</th>\n",
              "      <th>description</th>\n",
              "    </tr>\n",
              "  </thead>\n",
              "  <tbody>\n",
              "    <tr>\n",
              "      <th>0</th>\n",
              "      <td>arriba   baked winter squash mexican style</td>\n",
              "      <td>137739</td>\n",
              "      <td>autumn is my favorite time of year to cook! th...</td>\n",
              "    </tr>\n",
              "    <tr>\n",
              "      <th>1</th>\n",
              "      <td>a bit different  breakfast pizza</td>\n",
              "      <td>31490</td>\n",
              "      <td>this recipe calls for the crust to be prebaked...</td>\n",
              "    </tr>\n",
              "    <tr>\n",
              "      <th>2</th>\n",
              "      <td>all in the kitchen  chili</td>\n",
              "      <td>112140</td>\n",
              "      <td>this modified version of 'mom's' chili was a h...</td>\n",
              "    </tr>\n",
              "    <tr>\n",
              "      <th>3</th>\n",
              "      <td>alouette  potatoes</td>\n",
              "      <td>59389</td>\n",
              "      <td>this is a super easy, great tasting, make ahea...</td>\n",
              "    </tr>\n",
              "    <tr>\n",
              "      <th>4</th>\n",
              "      <td>amish  tomato ketchup  for canning</td>\n",
              "      <td>44061</td>\n",
              "      <td>my dh's amish mother raised him on this recipe...</td>\n",
              "    </tr>\n",
              "  </tbody>\n",
              "</table>\n",
              "</div>\n",
              "      <button class=\"colab-df-convert\" onclick=\"convertToInteractive('df-a70ac21f-56fa-4f8a-8f1e-897d5091538e')\"\n",
              "              title=\"Convert this dataframe to an interactive table.\"\n",
              "              style=\"display:none;\">\n",
              "        \n",
              "  <svg xmlns=\"http://www.w3.org/2000/svg\" height=\"24px\"viewBox=\"0 0 24 24\"\n",
              "       width=\"24px\">\n",
              "    <path d=\"M0 0h24v24H0V0z\" fill=\"none\"/>\n",
              "    <path d=\"M18.56 5.44l.94 2.06.94-2.06 2.06-.94-2.06-.94-.94-2.06-.94 2.06-2.06.94zm-11 1L8.5 8.5l.94-2.06 2.06-.94-2.06-.94L8.5 2.5l-.94 2.06-2.06.94zm10 10l.94 2.06.94-2.06 2.06-.94-2.06-.94-.94-2.06-.94 2.06-2.06.94z\"/><path d=\"M17.41 7.96l-1.37-1.37c-.4-.4-.92-.59-1.43-.59-.52 0-1.04.2-1.43.59L10.3 9.45l-7.72 7.72c-.78.78-.78 2.05 0 2.83L4 21.41c.39.39.9.59 1.41.59.51 0 1.02-.2 1.41-.59l7.78-7.78 2.81-2.81c.8-.78.8-2.07 0-2.86zM5.41 20L4 18.59l7.72-7.72 1.47 1.35L5.41 20z\"/>\n",
              "  </svg>\n",
              "      </button>\n",
              "      \n",
              "  <style>\n",
              "    .colab-df-container {\n",
              "      display:flex;\n",
              "      flex-wrap:wrap;\n",
              "      gap: 12px;\n",
              "    }\n",
              "\n",
              "    .colab-df-convert {\n",
              "      background-color: #E8F0FE;\n",
              "      border: none;\n",
              "      border-radius: 50%;\n",
              "      cursor: pointer;\n",
              "      display: none;\n",
              "      fill: #1967D2;\n",
              "      height: 32px;\n",
              "      padding: 0 0 0 0;\n",
              "      width: 32px;\n",
              "    }\n",
              "\n",
              "    .colab-df-convert:hover {\n",
              "      background-color: #E2EBFA;\n",
              "      box-shadow: 0px 1px 2px rgba(60, 64, 67, 0.3), 0px 1px 3px 1px rgba(60, 64, 67, 0.15);\n",
              "      fill: #174EA6;\n",
              "    }\n",
              "\n",
              "    [theme=dark] .colab-df-convert {\n",
              "      background-color: #3B4455;\n",
              "      fill: #D2E3FC;\n",
              "    }\n",
              "\n",
              "    [theme=dark] .colab-df-convert:hover {\n",
              "      background-color: #434B5C;\n",
              "      box-shadow: 0px 1px 3px 1px rgba(0, 0, 0, 0.15);\n",
              "      filter: drop-shadow(0px 1px 2px rgba(0, 0, 0, 0.3));\n",
              "      fill: #FFFFFF;\n",
              "    }\n",
              "  </style>\n",
              "\n",
              "      <script>\n",
              "        const buttonEl =\n",
              "          document.querySelector('#df-a70ac21f-56fa-4f8a-8f1e-897d5091538e button.colab-df-convert');\n",
              "        buttonEl.style.display =\n",
              "          google.colab.kernel.accessAllowed ? 'block' : 'none';\n",
              "\n",
              "        async function convertToInteractive(key) {\n",
              "          const element = document.querySelector('#df-a70ac21f-56fa-4f8a-8f1e-897d5091538e');\n",
              "          const dataTable =\n",
              "            await google.colab.kernel.invokeFunction('convertToInteractive',\n",
              "                                                     [key], {});\n",
              "          if (!dataTable) return;\n",
              "\n",
              "          const docLinkHtml = 'Like what you see? Visit the ' +\n",
              "            '<a target=\"_blank\" href=https://colab.research.google.com/notebooks/data_table.ipynb>data table notebook</a>'\n",
              "            + ' to learn more about interactive tables.';\n",
              "          element.innerHTML = '';\n",
              "          dataTable['output_type'] = 'display_data';\n",
              "          await google.colab.output.renderOutput(dataTable, element);\n",
              "          const docLink = document.createElement('div');\n",
              "          docLink.innerHTML = docLinkHtml;\n",
              "          element.appendChild(docLink);\n",
              "        }\n",
              "      </script>\n",
              "    </div>\n",
              "  </div>\n",
              "  "
            ]
          },
          "metadata": {},
          "execution_count": 64
        }
      ],
      "source": [
        "mapping_df = pd.read_csv(RECIPES_RAW, usecols=['name', 'id', 'description'])\n",
        "mapping_df.head()"
      ]
    },
    {
      "cell_type": "markdown",
      "source": [
        "Additionally we will still need to create an index for our dataset, which can then be used to retrieve the entires as predicted by the retrieval model."
      ],
      "metadata": {
        "id": "7pSbJ3Z-eTuu"
      }
    },
    {
      "cell_type": "code",
      "execution_count": 65,
      "metadata": {
        "id": "XghTI0ZAZA1z"
      },
      "outputs": [],
      "source": [
        "def recommend_recipes(\n",
        "    user_id,\n",
        "    item_ds=recipes_ds,\n",
        "    item_id='recipe_id',\n",
        "    mapping_df=mapping_df,\n",
        "    retrieval_model=model,\n",
        "    nr_recommendations=10,\n",
        "    batch_size=BATCH_SIZE\n",
        "):\n",
        "    index = tfrs.layers.factorized_top_k.BruteForce(\n",
        "        retrieval_model.user_model, nr_recommendations\n",
        "    )\n",
        "    # Recommends recipes out of the entire recipe itemset.\n",
        "    index.index_from_dataset(\n",
        "        tf.data.Dataset.zip(\n",
        "            (\n",
        "                item_ds.map(lambda x: x[item_id]).batch(batch_size),\n",
        "                item_ds.map(lambda x: x[item_id])\n",
        "                .batch(batch_size)\n",
        "                .map(retrieval_model.item_model),\n",
        "            )\n",
        "        )\n",
        "    )\n",
        "\n",
        "    # Get recommended recipes IDs from index\n",
        "    _, ids = index(tf.constant([user_id]))\n",
        "    id_list = ids[0:nr_recommendations].numpy().astype(\"int64\").tolist()[0]\n",
        "\n",
        "    # Annotate retrieved IDs with metadata\n",
        "    return mapping_df[mapping_df[\"id\"].isin(id_list)][[\"id\", \"name\", \"description\"]]\n"
      ]
    },
    {
      "cell_type": "markdown",
      "source": [
        "We can now take a random user ID from the test set and recommend some recipe IDs, together with recipe name and description."
      ],
      "metadata": {
        "id": "13mi7R94eyxf"
      }
    },
    {
      "cell_type": "code",
      "source": [
        "user_id = list(test_ds.take(100).as_numpy_iterator())[99]['user_id']\n",
        "recommend_recipes(user_id = user_id, nr_recommendations=20).style.hide(axis=\"index\")"
      ],
      "metadata": {
        "colab": {
          "base_uri": "https://localhost:8080/",
          "height": 1000
        },
        "id": "VlVx5iO2e59b",
        "outputId": "ec666a5b-466a-4683-cf29-6ee8f3af34bc"
      },
      "execution_count": 66,
      "outputs": [
        {
          "output_type": "execute_result",
          "data": {
            "text/plain": [
              "<pandas.io.formats.style.Styler at 0x7f9902c9fcd0>"
            ],
            "text/html": [
              "<style type=\"text/css\">\n",
              "</style>\n",
              "<table id=\"T_5c335\" class=\"dataframe\">\n",
              "  <thead>\n",
              "    <tr>\n",
              "      <th id=\"T_5c335_level0_col0\" class=\"col_heading level0 col0\" >id</th>\n",
              "      <th id=\"T_5c335_level0_col1\" class=\"col_heading level0 col1\" >name</th>\n",
              "      <th id=\"T_5c335_level0_col2\" class=\"col_heading level0 col2\" >description</th>\n",
              "    </tr>\n",
              "  </thead>\n",
              "  <tbody>\n",
              "    <tr>\n",
              "      <td id=\"T_5c335_row0_col0\" class=\"data row0 col0\" >232044</td>\n",
              "      <td id=\"T_5c335_row0_col1\" class=\"data row0 col1\" >sangria  fruit cups  non alcoholic</td>\n",
              "      <td id=\"T_5c335_row0_col2\" class=\"data row0 col2\" >a wonderful light dessert recipe from the people at kraft canada and adapted by me to be feed a few more.  very tasty.  (cooking time is refrigeration time)</td>\n",
              "    </tr>\n",
              "    <tr>\n",
              "      <td id=\"T_5c335_row1_col0\" class=\"data row1 col0\" >446919</td>\n",
              "      <td id=\"T_5c335_row1_col1\" class=\"data row1 col1\" >30 minute chili</td>\n",
              "      <td id=\"T_5c335_row1_col2\" class=\"data row1 col2\" >this chili tastes remarkably good and can be made for dinner when you are pressed for time. the recipe comes from the beefitswhatfordinner.com website, but i originally saw the recipe in the newpaper. i have made this several times, used whatever beef i had on hand. i've also added more beans and tomatoes to the same quantity of beef, and it still tasted great.</td>\n",
              "    </tr>\n",
              "    <tr>\n",
              "      <td id=\"T_5c335_row2_col0\" class=\"data row2 col0\" >404323</td>\n",
              "      <td id=\"T_5c335_row2_col1\" class=\"data row2 col1\" >a different porridge</td>\n",
              "      <td id=\"T_5c335_row2_col2\" class=\"data row2 col2\" >from recipes+ magazine</td>\n",
              "    </tr>\n",
              "    <tr>\n",
              "      <td id=\"T_5c335_row3_col0\" class=\"data row3 col0\" >229794</td>\n",
              "      <td id=\"T_5c335_row3_col1\" class=\"data row3 col1\" >a very interesting smoked salmon sandwich</td>\n",
              "      <td id=\"T_5c335_row3_col2\" class=\"data row3 col2\" >an unusual combination of ingredients make a nice change as antony worrall thompson shares his recipe for a sublime open sandwich, piled high with smoked salmon, crispy bacon, cream cheese and more!</td>\n",
              "    </tr>\n",
              "    <tr>\n",
              "      <td id=\"T_5c335_row4_col0\" class=\"data row4 col0\" >171619</td>\n",
              "      <td id=\"T_5c335_row4_col1\" class=\"data row4 col1\" >algerian cucumber salad</td>\n",
              "      <td id=\"T_5c335_row4_col2\" class=\"data row4 col2\" >posted for the zaar world tour. a yummy salad!</td>\n",
              "    </tr>\n",
              "    <tr>\n",
              "      <td id=\"T_5c335_row5_col0\" class=\"data row5 col0\" >213671</td>\n",
              "      <td id=\"T_5c335_row5_col1\" class=\"data row5 col1\" >all bran pancake</td>\n",
              "      <td id=\"T_5c335_row5_col2\" class=\"data row5 col2\" >healthy</td>\n",
              "    </tr>\n",
              "    <tr>\n",
              "      <td id=\"T_5c335_row6_col0\" class=\"data row6 col0\" >131359</td>\n",
              "      <td id=\"T_5c335_row6_col1\" class=\"data row6 col1\" >all in one warm artichoke bread dip</td>\n",
              "      <td id=\"T_5c335_row6_col2\" class=\"data row6 col2\" >this is called 'all in one', as the ingredients are all measured in \"ones\".  a nice change from the standard spinach bread dip.  great for parties.   i also change the monterey jack cheese from time to time, trying farmer's cheese, mozzarella, havarti, (pretty much any mild white cheese will do!)</td>\n",
              "    </tr>\n",
              "    <tr>\n",
              "      <td id=\"T_5c335_row7_col0\" class=\"data row7 col0\" >295701</td>\n",
              "      <td id=\"T_5c335_row7_col1\" class=\"data row7 col1\" >all purpose house seasoning</td>\n",
              "      <td id=\"T_5c335_row7_col2\" class=\"data row7 col2\" >this is my very own all purpose seasoning blend that i use on a daily basis. will store on the counter up to 2 months. will keep in the freezer for up to 12 months. use anyplace you would use regular salt and pepper. feel free to experiment with your favorite dried herbs and spices. i also keep smaller batches (just split a recipe) on the counter with 1 strip of dried lemon and another with 1 strip of dried lime in it. simply peel a strip of the zest and leave it on the counter overnight to dehydrate it. i have yet another with dried mint in it.</td>\n",
              "    </tr>\n",
              "    <tr>\n",
              "      <td id=\"T_5c335_row8_col0\" class=\"data row8 col0\" >201614</td>\n",
              "      <td id=\"T_5c335_row8_col1\" class=\"data row8 col1\" >almond tea cookies</td>\n",
              "      <td id=\"T_5c335_row8_col2\" class=\"data row8 col2\" >these easy crispy almond cookies are perfect with a cup of tea.</td>\n",
              "    </tr>\n",
              "    <tr>\n",
              "      <td id=\"T_5c335_row9_col0\" class=\"data row9 col0\" >63426</td>\n",
              "      <td id=\"T_5c335_row9_col1\" class=\"data row9 col1\" >american blessing mix</td>\n",
              "      <td id=\"T_5c335_row9_col2\" class=\"data row9 col2\" >i found this on the net</td>\n",
              "    </tr>\n",
              "    <tr>\n",
              "      <td id=\"T_5c335_row10_col0\" class=\"data row10 col0\" >24357</td>\n",
              "      <td id=\"T_5c335_row10_col1\" class=\"data row10 col1\" >anglesey eggs</td>\n",
              "      <td id=\"T_5c335_row10_col2\" class=\"data row10 col2\" >anglesey, separated from north wales by the menai strait, is a large island extending into the irish sea. anglesey eggs, a simple and tasty way of using up left over potatoes and heels of cheese, have been enjoyed for tea or supper by many welsh and english vacationers here.</td>\n",
              "    </tr>\n",
              "    <tr>\n",
              "      <td id=\"T_5c335_row11_col0\" class=\"data row11 col0\" >323576</td>\n",
              "      <td id=\"T_5c335_row11_col1\" class=\"data row11 col1\" >apple and celery salad</td>\n",
              "      <td id=\"T_5c335_row11_col2\" class=\"data row11 col2\" >use a good flavored apple for this old favorite such as fuji, gala, granny smith, jonathan, cortland, empire or winesap.  from the mississippi valley chapter of the united states regional cookbook, culinary arts institute of chicago, 1947.  chilling time not included in preparation time.</td>\n",
              "    </tr>\n",
              "    <tr>\n",
              "      <td id=\"T_5c335_row12_col0\" class=\"data row12 col0\" >367080</td>\n",
              "      <td id=\"T_5c335_row12_col1\" class=\"data row12 col1\" >apple blossom</td>\n",
              "      <td id=\"T_5c335_row12_col2\" class=\"data row12 col2\" >a recipe from the bartender's guide.  it has a great taste but very potent.  feel free to add more apple juice.  it's not sweet at all.  so adjust to your own taste.</td>\n",
              "    </tr>\n",
              "    <tr>\n",
              "      <td id=\"T_5c335_row13_col0\" class=\"data row13 col0\" >344382</td>\n",
              "      <td id=\"T_5c335_row13_col1\" class=\"data row13 col1\" >apple pie a la mode shake</td>\n",
              "      <td id=\"T_5c335_row13_col2\" class=\"data row13 col2\" >breakfast or dessert!  yum</td>\n",
              "    </tr>\n",
              "    <tr>\n",
              "      <td id=\"T_5c335_row14_col0\" class=\"data row14 col0\" >232077</td>\n",
              "      <td id=\"T_5c335_row14_col1\" class=\"data row14 col1\" >apricot and coconut balls</td>\n",
              "      <td id=\"T_5c335_row14_col2\" class=\"data row14 col2\" >easy and yummy treat</td>\n",
              "    </tr>\n",
              "    <tr>\n",
              "      <td id=\"T_5c335_row15_col0\" class=\"data row15 col0\" >428522</td>\n",
              "      <td id=\"T_5c335_row15_col1\" class=\"data row15 col1\" >artichoke caviar</td>\n",
              "      <td id=\"T_5c335_row15_col2\" class=\"data row15 col2\" >this tart and tangy appetizer is made from finely chopped artichokes combined with other tasty greek favorites.</td>\n",
              "    </tr>\n",
              "    <tr>\n",
              "      <td id=\"T_5c335_row16_col0\" class=\"data row16 col0\" >64945</td>\n",
              "      <td id=\"T_5c335_row16_col1\" class=\"data row16 col1\" >artichoke dip</td>\n",
              "      <td id=\"T_5c335_row16_col2\" class=\"data row16 col2\" >yummm.... posted in reply to request.</td>\n",
              "    </tr>\n",
              "    <tr>\n",
              "      <td id=\"T_5c335_row17_col0\" class=\"data row17 col0\" >92932</td>\n",
              "      <td id=\"T_5c335_row17_col1\" class=\"data row17 col1\" >arugula  rocket  and parmesan salad</td>\n",
              "      <td id=\"T_5c335_row17_col2\" class=\"data row17 col2\" >from the sopranos family cookbook</td>\n",
              "    </tr>\n",
              "    <tr>\n",
              "      <td id=\"T_5c335_row18_col0\" class=\"data row18 col0\" >304974</td>\n",
              "      <td id=\"T_5c335_row18_col1\" class=\"data row18 col1\" >asian noodle salad</td>\n",
              "      <td id=\"T_5c335_row18_col2\" class=\"data row18 col2\" >this is yet another version of asian salad.  i love snow peas when they are in season so i cannot resist adding them to this salad.  we enjoy this dish in the summer and spring for our main dish, and absolutely love it.</td>\n",
              "    </tr>\n",
              "    <tr>\n",
              "      <td id=\"T_5c335_row19_col0\" class=\"data row19 col0\" >354530</td>\n",
              "      <td id=\"T_5c335_row19_col1\" class=\"data row19 col1\" >asian pasta with tofu  shiitake mushrooms and broccoli</td>\n",
              "      <td id=\"T_5c335_row19_col2\" class=\"data row19 col2\" >a great healthy recipe from the ny times.\r\n",
              "(you can prepare the ingredients and blanch the broccoli hours ahead of cooking the dish. the stir-frying is a last-minute operation.)</td>\n",
              "    </tr>\n",
              "  </tbody>\n",
              "</table>\n"
            ]
          },
          "metadata": {},
          "execution_count": 66
        }
      ]
    },
    {
      "cell_type": "markdown",
      "source": [
        "## Bibliography"
      ],
      "metadata": {
        "id": "dB8bRS9TPiJh"
      }
    },
    {
      "cell_type": "markdown",
      "source": [
        "- **Majumder, Bodhisattwa Prasad, et al.** \"Generating personalized recipes from historical user preferences.\" arXiv preprint arXiv:1909.00105 (2019)."
      ],
      "metadata": {
        "id": "YHOCThGAPltB"
      }
    }
  ],
  "metadata": {
    "colab": {
      "provenance": [],
      "toc_visible": true,
      "gpuType": "T4"
    },
    "gpuClass": "standard",
    "kernelspec": {
      "display_name": "tf-recsys",
      "language": "python",
      "name": "python3"
    },
    "language_info": {
      "codemirror_mode": {
        "name": "ipython",
        "version": 3
      },
      "file_extension": ".py",
      "mimetype": "text/x-python",
      "name": "python",
      "nbconvert_exporter": "python",
      "pygments_lexer": "ipython3",
      "version": "3.10.10"
    }
  },
  "nbformat": 4,
  "nbformat_minor": 0
}