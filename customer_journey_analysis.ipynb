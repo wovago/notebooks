{
 "cells": [
  {
   "cell_type": "markdown",
   "metadata": {},
   "source": [
    "#  Reconstructing customer journeys from transactional records using Apache Spark"
   ]
  },
  {
   "cell_type": "markdown",
   "metadata": {},
   "source": [
    "## Introduction"
   ]
  },
  {
   "cell_type": "markdown",
   "metadata": {},
   "source": [
    " In this notebook we will peform customer touchpoint analysis using Apache Spark. A customer touchpoint refers to any interaction or point of contact that a customer has with a business, brand, product, or service throughout the entire customer journey. It encompasses all the different ways through which a customer can engage with or experience a company, both online and offline. Customer touchpoints play a crucial role in shaping a customer's perception, satisfaction, and overall experience with a brand.\n",
    "\n",
    "In this analysis we will automatically reconstruct customer journeys from transactional data consisting of purchase events and **customer touchpoint** events. We will perform **frequent itemset mining** on those transactional records to identify combinations of customer touchpoints that constitute common customer journeys leading to purchases or conversions. To perform frequent itemset mining we will use the **fp-growth** algorithm that is provided by **Apache Spark**'s `mlib` library.\n",
    "\n",
    "The dataset which we will use for this analysis can be downloaded at https://www.kaggle.com/datasets/kishlaya18/customer-purchase-journey-netherlands. This dataset contains transactional records of travel purchases together with corresponding customer touchpoint events. So let's start with the analysis."
   ]
  },
  {
   "cell_type": "markdown",
   "metadata": {},
   "source": [
    "## Data preprocessing with Apache Spark"
   ]
  },
  {
   "cell_type": "code",
   "execution_count": 644,
   "metadata": {},
   "outputs": [],
   "source": [
    "import findspark\n",
    "import matplotlib.pyplot as plt\n",
    "import pandas as pd\n",
    "import plotly.graph_objects as go\n",
    "import pyspark\n",
    "import pyspark.pandas as ps\n",
    "import seaborn as sns\n",
    "from pyspark.ml.fpm import FPGrowth, PrefixSpan\n",
    "from pyspark.sql import SparkSession, Window\n",
    "from pyspark.sql import functions as F\n",
    "from pyspark.sql.functions import col"
   ]
  },
  {
   "cell_type": "markdown",
   "metadata": {},
   "source": [
    "First we will start the analysis by initializing the Spark session."
   ]
  },
  {
   "cell_type": "code",
   "execution_count": 645,
   "metadata": {},
   "outputs": [
    {
     "name": "stderr",
     "output_type": "stream",
     "text": [
      "[Stage 903:============================>                            (1 + 1) / 2]\r"
     ]
    }
   ],
   "source": [
    "findspark.init()\n",
    "spark = SparkSession.builder.appName(\"customer_journey\").getOrCreate()"
   ]
  },
  {
   "cell_type": "markdown",
   "metadata": {},
   "source": [
    "We then will read in the transactional data containing purchases with the corresponding customer touchpoints leading to that purchase."
   ]
  },
  {
   "cell_type": "code",
   "execution_count": 10,
   "metadata": {},
   "outputs": [
    {
     "name": "stderr",
     "output_type": "stream",
     "text": [
      "                                                                                \r"
     ]
    }
   ],
   "source": [
    "df = spark.read.csv('./data/TravelData.csv', header=True, inferSchema=True)"
   ]
  },
  {
   "cell_type": "markdown",
   "metadata": {},
   "source": [
    "We still perform some type casting and inspect the imported data schema."
   ]
  },
  {
   "cell_type": "code",
   "execution_count": 11,
   "metadata": {},
   "outputs": [
    {
     "name": "stdout",
     "output_type": "stream",
     "text": [
      "root\n",
      " |-- UserID: integer (nullable = true)\n",
      " |-- PurchaseID: integer (nullable = true)\n",
      " |-- TIMESPSS: timestamp (nullable = true)\n",
      " |-- DEVICE_TYPE: string (nullable = true)\n",
      " |-- type_touch: integer (nullable = true)\n",
      " |-- purchase_own: integer (nullable = true)\n",
      " |-- purchase_any: integer (nullable = true)\n",
      " |-- MobilePanel: integer (nullable = true)\n",
      " |-- FixedPanel: integer (nullable = true)\n",
      "\n"
     ]
    }
   ],
   "source": [
    "df = df.withColumn(\"duration\", col(\"Duration\").cast(\"int\")).drop('Duration')\n",
    "df.printSchema()"
   ]
  },
  {
   "cell_type": "markdown",
   "metadata": {},
   "source": [
    "We can now inspect some records to see what the data looks like."
   ]
  },
  {
   "cell_type": "code",
   "execution_count": 740,
   "metadata": {},
   "outputs": [
    {
     "name": "stdout",
     "output_type": "stream",
     "text": [
      "+------+----------+-------------------+-----------+----------+------------+------------+-----------+----------+\n",
      "|UserID|PurchaseID|           TIMESPSS|DEVICE_TYPE|type_touch|purchase_own|purchase_any|MobilePanel|FixedPanel|\n",
      "+------+----------+-------------------+-----------+----------+------------+------------+-----------+----------+\n",
      "|  9558|         1|2016-03-12 22:18:34|     MOBILE|         7|           0|           0|          0|         0|\n",
      "|  9558|         1|2016-03-13 05:25:49|     MOBILE|         7|           0|           0|          0|         0|\n",
      "|  9558|         1|2016-03-13 12:26:21|     MOBILE|         7|           0|           0|          0|         0|\n",
      "|  9657|         2|2015-07-18 13:00:38|      FIXED|         4|           0|           0|          0|         0|\n",
      "|     1|         3|2015-08-07 19:16:59|      FIXED|         7|           0|           0|          0|        17|\n",
      "|     1|         4|2015-11-03 12:31:35|      FIXED|         1|           0|           0|          0|        17|\n",
      "|     1|         4|2015-11-03 12:39:22|      FIXED|         1|           0|           0|          0|        17|\n",
      "|     1|         4|2015-11-24 22:29:39|      FIXED|         1|           0|           0|          0|        17|\n",
      "|     1|         4|2015-11-24 22:30:39|      FIXED|         1|           0|           0|          0|        17|\n",
      "|     1|         4|2015-11-24 22:30:44|      FIXED|         1|           0|           0|          0|        17|\n",
      "+------+----------+-------------------+-----------+----------+------------+------------+-----------+----------+\n",
      "only showing top 10 rows\n",
      "\n"
     ]
    },
    {
     "name": "stderr",
     "output_type": "stream",
     "text": [
      "                                                                                \r"
     ]
    },
    {
     "name": "stderr",
     "output_type": "stream",
     "text": [
      "[Stage 903:============================>                            (1 + 1) / 2]\r"
     ]
    }
   ],
   "source": [
    "df.show(10)"
   ]
  },
  {
   "cell_type": "markdown",
   "metadata": {},
   "source": [
    "From the above table, we can observe that a purchase consists of multiple events. Each event is listed as a seperate record and describes a certain customer touchpoint that was involved in the purchase. To prepare the data for our frequent itemset analysis, we will group all events with their corresponding purchase. We can do this by aggregating all records per purchase ID using Apache Spark. We will partition the data by `UserID` and `PurchcaseID` to improve performance. The type of customer toucpoint is recorded in the variable `type_touch`. Furthermore, we will also order each partition by `TIMESPSS`, which provides a time stamp for each event. This ensures that touchpoint events for each purchase are ordered chronologically."
   ]
  },
  {
   "cell_type": "code",
   "execution_count": 736,
   "metadata": {},
   "outputs": [
    {
     "name": "stderr",
     "output_type": "stream",
     "text": [
      "[Stage 903:========>        (1 + 1) / 2][Stage 1528:============>   (3 + 1) / 4]\r"
     ]
    },
    {
     "name": "stdout",
     "output_type": "stream",
     "text": [
      "+----------+----------------------+\n",
      "|PurchaseID|sorted_touch_points   |\n",
      "+----------+----------------------+\n",
      "|1         |[7]                   |\n",
      "|2         |[4]                   |\n",
      "|3         |[7]                   |\n",
      "|4         |[1]                   |\n",
      "|5         |[16, 13, 18, 7]       |\n",
      "|6         |[16, 6, 4]            |\n",
      "|7         |[16]                  |\n",
      "|8         |[1, 16, 3, 10, 7, 4]  |\n",
      "|9         |[5]                   |\n",
      "|10        |[5]                   |\n",
      "|11        |[16]                  |\n",
      "|12        |[1, 16, 7]            |\n",
      "|13        |[1]                   |\n",
      "|14        |[9, 1, 16, 2, 3, 7, 4]|\n",
      "|15        |[7, 4]                |\n",
      "|16        |[1]                   |\n",
      "|17        |[1]                   |\n",
      "|18        |[1]                   |\n",
      "|19        |[7]                   |\n",
      "|20        |[10]                  |\n",
      "+----------+----------------------+\n",
      "only showing top 20 rows\n",
      "\n"
     ]
    },
    {
     "name": "stderr",
     "output_type": "stream",
     "text": [
      "                                                                                \r"
     ]
    },
    {
     "name": "stderr",
     "output_type": "stream",
     "text": [
      "[Stage 903:============================>                            (1 + 1) / 2]\r"
     ]
    }
   ],
   "source": [
    "w = Window.partitionBy(\"UserID\", \"PurchaseID\").orderBy(\"TIMESPSS\")\n",
    "\n",
    "touch_sequences_df = (\n",
    "    df.withColumn(\"sorted_touch_points\", F.collect_list(\"type_touch\").over(w))\n",
    "    .groupBy(\"PurchaseID\")\n",
    "    .agg(F.collect_set(\"type_touch\").alias(\"sorted_touch_points\"))\n",
    ")\n",
    "\n",
    "touch_sequences_df.show(truncate=False)"
   ]
  },
  {
   "cell_type": "markdown",
   "metadata": {},
   "source": [
    "For our subsequent analysis we will use Apache Spark to peform frequent itemset mining on the data frame with touch events. Frequent itemset mining is a data mining technique used to discover sets of items that frequently co-occur together in a dataset. It is a fundamental concept in association rule mining, which aims to find interesting relationships or patterns in large transactional or categorical datasets. In this case we will use it too see whether we can discover interesting patterns in touch event sequences that lead to purchases. Before we will start the analysis, let's have a look at a commonly used algorithm to perform frequent itemset mining, called the FP-Growth algorithm."
   ]
  },
  {
   "cell_type": "markdown",
   "metadata": {},
   "source": [
    "## FP-Growth algorithm"
   ]
  },
  {
   "cell_type": "markdown",
   "metadata": {},
   "source": [
    "The **FP-Growth (Frequent Pattern Growth)** algorithm [**Han et al., 2000**] is a popular algorithm used for mining frequent itemsets and discovering association rules in transactional databases or datasets with a similar structure. It's particularly useful for large datasets where traditional algorithms like Apriori might be inefficient due to their high computational complexity.\n",
    "\n",
    "FP-Growth works by building a compact data structure called an FP-Tree (Frequent Pattern Tree), which allows efficient mining of frequent itemsets without generating candidate itemsets explicitly. Here's how the algorithm works:\n",
    "\n",
    "**1. Constructing the FP-Tree**:\n",
    "\n",
    "- **Scan the Dataset**: In the first pass over the dataset, count the frequency of each item. Items with support above a predefined threshold are considered frequent.\n",
    "\n",
    "- **Sort Items**: Sort the frequent items in descending order of their support.\n",
    "\n",
    "- **Build the FP-Tree**: Construct the FP-Tree by scanning the dataset again and adding each transaction to the tree. Each transaction is represented as a path in the tree. The tree nodes represent items, and their paths represent the sequence of items in a transaction.\n",
    "\n",
    "**2. Mining Frequent Itemsets**:\n",
    "\n",
    "- **Mining Conditional Pattern Bases**: For each frequent item in the dataset, mine the Conditional Pattern Base (CPB). The CPB is a set of paths in the FP-Tree that contain the item. These paths are used to construct a smaller FP-Tree, called the Conditional FP-Tree.\n",
    "\n",
    "- **Recursion**: Recursively mine the Conditional FP-Tree to extract frequent itemsets.\n",
    "\n",
    "**3. Generating Association Rules**:\n",
    "\n",
    "- **From Frequent Itemsets**: Once frequent itemsets are discovered, generate association rules based on these itemsets. Association rules express relationships between items and are typically in the form \"If X, then Y.\"\n",
    "\n",
    "- **Calculating Confidence**: Calculate the confidence of each association rule. Confidence measures how often the rule has been found to be true in the dataset.\n",
    "\n",
    "- **Pruning and Filtering**: Prune association rules based on user-defined thresholds, such as minimum confidence and minimum support."
   ]
  },
  {
   "cell_type": "markdown",
   "metadata": {},
   "source": [
    "## Frequent itemset mining"
   ]
  },
  {
   "cell_type": "markdown",
   "metadata": {},
   "source": [
    "We will run the **FP-growth algorithm** on the touch event data to generate frequent itemsets, which could help us identify interesting patterns. To run the FP-Growth algorithm we can use Apache Spark's built-in `FPGrowth` method.\n",
    "\n",
    "We will set parameter `minSupport` to `0.1`, meaning that the pattern needs to present minimally in 10% of cases. Furthermore, we set parameter `minConfidence` to `0.9`. Minimum Confidence is an indication of how often an association rule has been found to be true. By setting this parameter quite high, we will only retain high-quality patterns that are supported by association rules.\n",
    "\n",
    "Once we have initialized the algoritym, we are ready to run the FP-Growth algorithm on the preprocessed purchases with their constituting touchpoint sequences."
   ]
  },
  {
   "cell_type": "code",
   "execution_count": 738,
   "metadata": {},
   "outputs": [
    {
     "name": "stderr",
     "output_type": "stream",
     "text": [
      "                                                                                \r"
     ]
    },
    {
     "name": "stderr",
     "output_type": "stream",
     "text": [
      "[Stage 903:============================>                            (1 + 1) / 2]\r"
     ]
    }
   ],
   "source": [
    "fpGrowth = FPGrowth(itemsCol=\"sorted_touch_points\", minSupport=0.1, minConfidence=0.9)\n",
    "model = fpGrowth.fit(touch_sequences_df)"
   ]
  },
  {
   "cell_type": "markdown",
   "metadata": {},
   "source": [
    "After the fp-growth algorithm has finished, we can inspect frequent itemsets that were discovered by the algorithm, together with their corresponding frequency. We will also convert the Spark data frame to a Pandas data frame for further processing and visualization."
   ]
  },
  {
   "cell_type": "code",
   "execution_count": 739,
   "metadata": {},
   "outputs": [
    {
     "name": "stderr",
     "output_type": "stream",
     "text": [
      "                                                                                \r"
     ]
    },
    {
     "data": {
      "text/html": [
       "<div>\n",
       "<style scoped>\n",
       "    .dataframe tbody tr th:only-of-type {\n",
       "        vertical-align: middle;\n",
       "    }\n",
       "\n",
       "    .dataframe tbody tr th {\n",
       "        vertical-align: top;\n",
       "    }\n",
       "\n",
       "    .dataframe thead th {\n",
       "        text-align: right;\n",
       "    }\n",
       "</style>\n",
       "<table border=\"1\" class=\"dataframe\">\n",
       "  <thead>\n",
       "    <tr style=\"text-align: right;\">\n",
       "      <th></th>\n",
       "      <th>items</th>\n",
       "      <th>freq</th>\n",
       "    </tr>\n",
       "  </thead>\n",
       "  <tbody>\n",
       "    <tr>\n",
       "      <th>0</th>\n",
       "      <td>[1]</td>\n",
       "      <td>19157</td>\n",
       "    </tr>\n",
       "    <tr>\n",
       "      <th>1</th>\n",
       "      <td>[7]</td>\n",
       "      <td>17185</td>\n",
       "    </tr>\n",
       "    <tr>\n",
       "      <th>2</th>\n",
       "      <td>[7, 1]</td>\n",
       "      <td>11670</td>\n",
       "    </tr>\n",
       "    <tr>\n",
       "      <th>3</th>\n",
       "      <td>[4]</td>\n",
       "      <td>10396</td>\n",
       "    </tr>\n",
       "    <tr>\n",
       "      <th>4</th>\n",
       "      <td>[16]</td>\n",
       "      <td>7857</td>\n",
       "    </tr>\n",
       "    <tr>\n",
       "      <th>5</th>\n",
       "      <td>[4, 1]</td>\n",
       "      <td>7742</td>\n",
       "    </tr>\n",
       "    <tr>\n",
       "      <th>6</th>\n",
       "      <td>[13]</td>\n",
       "      <td>7395</td>\n",
       "    </tr>\n",
       "    <tr>\n",
       "      <th>7</th>\n",
       "      <td>[4, 7]</td>\n",
       "      <td>7162</td>\n",
       "    </tr>\n",
       "    <tr>\n",
       "      <th>8</th>\n",
       "      <td>[4, 7, 1]</td>\n",
       "      <td>6128</td>\n",
       "    </tr>\n",
       "    <tr>\n",
       "      <th>9</th>\n",
       "      <td>[16, 1]</td>\n",
       "      <td>5685</td>\n",
       "    </tr>\n",
       "    <tr>\n",
       "      <th>10</th>\n",
       "      <td>[13, 1]</td>\n",
       "      <td>5583</td>\n",
       "    </tr>\n",
       "    <tr>\n",
       "      <th>11</th>\n",
       "      <td>[13, 7]</td>\n",
       "      <td>5455</td>\n",
       "    </tr>\n",
       "    <tr>\n",
       "      <th>12</th>\n",
       "      <td>[16, 7]</td>\n",
       "      <td>5269</td>\n",
       "    </tr>\n",
       "    <tr>\n",
       "      <th>13</th>\n",
       "      <td>[13, 7, 1]</td>\n",
       "      <td>4781</td>\n",
       "    </tr>\n",
       "    <tr>\n",
       "      <th>14</th>\n",
       "      <td>[16, 7, 1]</td>\n",
       "      <td>4432</td>\n",
       "    </tr>\n",
       "    <tr>\n",
       "      <th>15</th>\n",
       "      <td>[16, 4]</td>\n",
       "      <td>3991</td>\n",
       "    </tr>\n",
       "    <tr>\n",
       "      <th>16</th>\n",
       "      <td>[13, 4]</td>\n",
       "      <td>3677</td>\n",
       "    </tr>\n",
       "    <tr>\n",
       "      <th>17</th>\n",
       "      <td>[16, 4, 1]</td>\n",
       "      <td>3467</td>\n",
       "    </tr>\n",
       "    <tr>\n",
       "      <th>18</th>\n",
       "      <td>[16, 4, 7]</td>\n",
       "      <td>3310</td>\n",
       "    </tr>\n",
       "    <tr>\n",
       "      <th>19</th>\n",
       "      <td>[13, 4, 1]</td>\n",
       "      <td>3236</td>\n",
       "    </tr>\n",
       "    <tr>\n",
       "      <th>20</th>\n",
       "      <td>[13, 4, 7]</td>\n",
       "      <td>3196</td>\n",
       "    </tr>\n",
       "    <tr>\n",
       "      <th>21</th>\n",
       "      <td>[10]</td>\n",
       "      <td>3066</td>\n",
       "    </tr>\n",
       "    <tr>\n",
       "      <th>22</th>\n",
       "      <td>[16, 4, 7, 1]</td>\n",
       "      <td>3013</td>\n",
       "    </tr>\n",
       "    <tr>\n",
       "      <th>23</th>\n",
       "      <td>[13, 4, 7, 1]</td>\n",
       "      <td>2946</td>\n",
       "    </tr>\n",
       "  </tbody>\n",
       "</table>\n",
       "</div>"
      ],
      "text/plain": [
       "            items   freq\n",
       "0             [1]  19157\n",
       "1             [7]  17185\n",
       "2          [7, 1]  11670\n",
       "3             [4]  10396\n",
       "4            [16]   7857\n",
       "5          [4, 1]   7742\n",
       "6            [13]   7395\n",
       "7          [4, 7]   7162\n",
       "8       [4, 7, 1]   6128\n",
       "9         [16, 1]   5685\n",
       "10        [13, 1]   5583\n",
       "11        [13, 7]   5455\n",
       "12        [16, 7]   5269\n",
       "13     [13, 7, 1]   4781\n",
       "14     [16, 7, 1]   4432\n",
       "15        [16, 4]   3991\n",
       "16        [13, 4]   3677\n",
       "17     [16, 4, 1]   3467\n",
       "18     [16, 4, 7]   3310\n",
       "19     [13, 4, 1]   3236\n",
       "20     [13, 4, 7]   3196\n",
       "21           [10]   3066\n",
       "22  [16, 4, 7, 1]   3013\n",
       "23  [13, 4, 7, 1]   2946"
      ]
     },
     "execution_count": 739,
     "metadata": {},
     "output_type": "execute_result"
    },
    {
     "name": "stderr",
     "output_type": "stream",
     "text": [
      "[Stage 903:============================>                            (1 + 1) / 2]\r"
     ]
    }
   ],
   "source": [
    "itemset_df = model.freqItemsets.sort(col(\"freq\").desc()).toPandas()\n",
    "itemset_df.head(40)"
   ]
  },
  {
   "cell_type": "markdown",
   "metadata": {},
   "source": [
    "We will still add a trailing zero to each itemset, denoting the actual converson event. This will be useful for visualization purposes later on."
   ]
  },
  {
   "cell_type": "code",
   "execution_count": 777,
   "metadata": {},
   "outputs": [
    {
     "data": {
      "text/html": [
       "<div>\n",
       "<style scoped>\n",
       "    .dataframe tbody tr th:only-of-type {\n",
       "        vertical-align: middle;\n",
       "    }\n",
       "\n",
       "    .dataframe tbody tr th {\n",
       "        vertical-align: top;\n",
       "    }\n",
       "\n",
       "    .dataframe thead th {\n",
       "        text-align: right;\n",
       "    }\n",
       "</style>\n",
       "<table border=\"1\" class=\"dataframe\">\n",
       "  <thead>\n",
       "    <tr style=\"text-align: right;\">\n",
       "      <th></th>\n",
       "      <th>items</th>\n",
       "      <th>freq</th>\n",
       "    </tr>\n",
       "  </thead>\n",
       "  <tbody>\n",
       "    <tr>\n",
       "      <th>0</th>\n",
       "      <td>[1, 0]</td>\n",
       "      <td>19157</td>\n",
       "    </tr>\n",
       "    <tr>\n",
       "      <th>1</th>\n",
       "      <td>[7, 0]</td>\n",
       "      <td>17185</td>\n",
       "    </tr>\n",
       "    <tr>\n",
       "      <th>2</th>\n",
       "      <td>[7, 1, 0]</td>\n",
       "      <td>11670</td>\n",
       "    </tr>\n",
       "    <tr>\n",
       "      <th>3</th>\n",
       "      <td>[4, 0]</td>\n",
       "      <td>10396</td>\n",
       "    </tr>\n",
       "    <tr>\n",
       "      <th>4</th>\n",
       "      <td>[16, 0]</td>\n",
       "      <td>7857</td>\n",
       "    </tr>\n",
       "  </tbody>\n",
       "</table>\n",
       "</div>"
      ],
      "text/plain": [
       "       items   freq\n",
       "0     [1, 0]  19157\n",
       "1     [7, 0]  17185\n",
       "2  [7, 1, 0]  11670\n",
       "3     [4, 0]  10396\n",
       "4    [16, 0]   7857"
      ]
     },
     "execution_count": 777,
     "metadata": {},
     "output_type": "execute_result"
    }
   ],
   "source": [
    "itemset_df['items'] = itemset_df['items'].apply(lambda x: x + [0])\n",
    "itemset_df.head()"
   ]
  },
  {
   "cell_type": "markdown",
   "metadata": {},
   "source": [
    "We will have a further look at the discovered itemsets later on, but first let's have a quick look at the extracted association rules."
   ]
  },
  {
   "cell_type": "markdown",
   "metadata": {},
   "source": [
    "## Association rule extraction"
   ]
  },
  {
   "cell_type": "markdown",
   "metadata": {},
   "source": [
    "**Association rules** are a type of pattern or relationship that can be discovered from transactional or categorical data using data mining techniques. Association rule mining aims to find interesting relationships between items in a dataset, particularly those that frequently co-occur together."
   ]
  },
  {
   "cell_type": "markdown",
   "metadata": {},
   "source": [
    "We can also inspect the assocation rules that were extracted by the fp-growth algorithm. We can observe that all derived assocation rules have a confidence higher than 90%. We will also convert it to a Pandas data frame immediately."
   ]
  },
  {
   "cell_type": "code",
   "execution_count": 665,
   "metadata": {},
   "outputs": [
    {
     "name": "stderr",
     "output_type": "stream",
     "text": [
      "                                                                                \r"
     ]
    },
    {
     "data": {
      "text/html": [
       "<div>\n",
       "<style scoped>\n",
       "    .dataframe tbody tr th:only-of-type {\n",
       "        vertical-align: middle;\n",
       "    }\n",
       "\n",
       "    .dataframe tbody tr th {\n",
       "        vertical-align: top;\n",
       "    }\n",
       "\n",
       "    .dataframe thead th {\n",
       "        text-align: right;\n",
       "    }\n",
       "</style>\n",
       "<table border=\"1\" class=\"dataframe\">\n",
       "  <thead>\n",
       "    <tr style=\"text-align: right;\">\n",
       "      <th></th>\n",
       "      <th>antecedent</th>\n",
       "      <th>consequent</th>\n",
       "      <th>confidence</th>\n",
       "      <th>lift</th>\n",
       "      <th>support</th>\n",
       "    </tr>\n",
       "  </thead>\n",
       "  <tbody>\n",
       "    <tr>\n",
       "      <th>0</th>\n",
       "      <td>[13, 4, 1]</td>\n",
       "      <td>[7]</td>\n",
       "      <td>0.910383</td>\n",
       "      <td>1.536924</td>\n",
       "      <td>0.101544</td>\n",
       "    </tr>\n",
       "    <tr>\n",
       "      <th>1</th>\n",
       "      <td>[13, 4, 7]</td>\n",
       "      <td>[1]</td>\n",
       "      <td>0.921777</td>\n",
       "      <td>1.395970</td>\n",
       "      <td>0.101544</td>\n",
       "    </tr>\n",
       "    <tr>\n",
       "      <th>2</th>\n",
       "      <td>[16, 4, 7]</td>\n",
       "      <td>[1]</td>\n",
       "      <td>0.910272</td>\n",
       "      <td>1.378546</td>\n",
       "      <td>0.103854</td>\n",
       "    </tr>\n",
       "  </tbody>\n",
       "</table>\n",
       "</div>"
      ],
      "text/plain": [
       "   antecedent consequent  confidence      lift   support\n",
       "0  [13, 4, 1]        [7]    0.910383  1.536924  0.101544\n",
       "1  [13, 4, 7]        [1]    0.921777  1.395970  0.101544\n",
       "2  [16, 4, 7]        [1]    0.910272  1.378546  0.103854"
      ]
     },
     "execution_count": 665,
     "metadata": {},
     "output_type": "execute_result"
    },
    {
     "name": "stderr",
     "output_type": "stream",
     "text": [
      "[Stage 903:============================>                            (1 + 1) / 2]\r"
     ]
    }
   ],
   "source": [
    "association_rules_df = model.associationRules.toPandas()\n",
    "association_rules_df.head()"
   ]
  },
  {
   "cell_type": "markdown",
   "metadata": {},
   "source": [
    "To help interpreting these association rules, we will import a mapping table that maps touchpoint IDs to more verbose descriptions."
   ]
  },
  {
   "cell_type": "code",
   "execution_count": 678,
   "metadata": {},
   "outputs": [
    {
     "data": {
      "text/html": [
       "<div>\n",
       "<style scoped>\n",
       "    .dataframe tbody tr th:only-of-type {\n",
       "        vertical-align: middle;\n",
       "    }\n",
       "\n",
       "    .dataframe tbody tr th {\n",
       "        vertical-align: top;\n",
       "    }\n",
       "\n",
       "    .dataframe thead th {\n",
       "        text-align: right;\n",
       "    }\n",
       "</style>\n",
       "<table border=\"1\" class=\"dataframe\">\n",
       "  <thead>\n",
       "    <tr style=\"text-align: right;\">\n",
       "      <th></th>\n",
       "      <th>touch_point</th>\n",
       "      <th>description</th>\n",
       "      <th>initiation</th>\n",
       "    </tr>\n",
       "  </thead>\n",
       "  <tbody>\n",
       "    <tr>\n",
       "      <th>0</th>\n",
       "      <td>1</td>\n",
       "      <td>Accomodations Website</td>\n",
       "      <td>Consumer initiated touchpoint</td>\n",
       "    </tr>\n",
       "    <tr>\n",
       "      <th>1</th>\n",
       "      <td>2</td>\n",
       "      <td>Accomodations App</td>\n",
       "      <td>Consumer initiated touchpoint</td>\n",
       "    </tr>\n",
       "    <tr>\n",
       "      <th>2</th>\n",
       "      <td>3</td>\n",
       "      <td>Accomodations Search</td>\n",
       "      <td>Consumer initiated touchpoint</td>\n",
       "    </tr>\n",
       "    <tr>\n",
       "      <th>3</th>\n",
       "      <td>4</td>\n",
       "      <td>Information / comparison Website</td>\n",
       "      <td>Consumer initiated touchpoint</td>\n",
       "    </tr>\n",
       "    <tr>\n",
       "      <th>4</th>\n",
       "      <td>5</td>\n",
       "      <td>Information / comparison App</td>\n",
       "      <td>Consumer initiated touchpoint</td>\n",
       "    </tr>\n",
       "    <tr>\n",
       "      <th>5</th>\n",
       "      <td>6</td>\n",
       "      <td>Information / comparison Search</td>\n",
       "      <td>Consumer initiated touchpoint</td>\n",
       "    </tr>\n",
       "    <tr>\n",
       "      <th>6</th>\n",
       "      <td>7</td>\n",
       "      <td>Touroperator / Travel agent Website Competitor</td>\n",
       "      <td>Consumer initiated touchpoint</td>\n",
       "    </tr>\n",
       "    <tr>\n",
       "      <th>7</th>\n",
       "      <td>8</td>\n",
       "      <td>Touroperator / Travel agent App Competitor</td>\n",
       "      <td>Consumer initiated touchpoint</td>\n",
       "    </tr>\n",
       "    <tr>\n",
       "      <th>8</th>\n",
       "      <td>9</td>\n",
       "      <td>Touroperator / Travel agent Search Competitor</td>\n",
       "      <td>Consumer initiated touchpoint</td>\n",
       "    </tr>\n",
       "    <tr>\n",
       "      <th>9</th>\n",
       "      <td>10</td>\n",
       "      <td>Touroperator / Travel agent Website Focus brand</td>\n",
       "      <td>Consumer initiated touchpoint</td>\n",
       "    </tr>\n",
       "    <tr>\n",
       "      <th>10</th>\n",
       "      <td>12</td>\n",
       "      <td>Touroperator / Travel agent Search Focus brand</td>\n",
       "      <td>Consumer initiated touchpoint</td>\n",
       "    </tr>\n",
       "    <tr>\n",
       "      <th>11</th>\n",
       "      <td>13</td>\n",
       "      <td>Flight tickets Website</td>\n",
       "      <td>Consumer initiated touchpoint</td>\n",
       "    </tr>\n",
       "    <tr>\n",
       "      <th>12</th>\n",
       "      <td>14</td>\n",
       "      <td>Flight tickets App</td>\n",
       "      <td>Consumer initiated touchpoint</td>\n",
       "    </tr>\n",
       "    <tr>\n",
       "      <th>13</th>\n",
       "      <td>15</td>\n",
       "      <td>Flight tickets Search</td>\n",
       "      <td>Consumer initiated touchpoint</td>\n",
       "    </tr>\n",
       "    <tr>\n",
       "      <th>14</th>\n",
       "      <td>16</td>\n",
       "      <td>generic search</td>\n",
       "      <td>Consumer initiated touchpoint</td>\n",
       "    </tr>\n",
       "    <tr>\n",
       "      <th>15</th>\n",
       "      <td>18</td>\n",
       "      <td>AFFILIATES</td>\n",
       "      <td>Company intiated touchpoint (Focus brand)</td>\n",
       "    </tr>\n",
       "    <tr>\n",
       "      <th>16</th>\n",
       "      <td>19</td>\n",
       "      <td>BANNER</td>\n",
       "      <td>Company intiated touchpoint (Focus brand)</td>\n",
       "    </tr>\n",
       "    <tr>\n",
       "      <th>17</th>\n",
       "      <td>20</td>\n",
       "      <td>EMAIL</td>\n",
       "      <td>Company intiated touchpoint (Focus brand)</td>\n",
       "    </tr>\n",
       "    <tr>\n",
       "      <th>18</th>\n",
       "      <td>21</td>\n",
       "      <td>PREROLLS</td>\n",
       "      <td>Company intiated touchpoint (Focus brand)</td>\n",
       "    </tr>\n",
       "    <tr>\n",
       "      <th>19</th>\n",
       "      <td>22</td>\n",
       "      <td>RETARGETING</td>\n",
       "      <td>Company intiated touchpoint (Focus brand)</td>\n",
       "    </tr>\n",
       "  </tbody>\n",
       "</table>\n",
       "</div>"
      ],
      "text/plain": [
       "    touch_point                                      description  \\\n",
       "0             1                            Accomodations Website   \n",
       "1             2                                Accomodations App   \n",
       "2             3                             Accomodations Search   \n",
       "3             4                 Information / comparison Website   \n",
       "4             5                     Information / comparison App   \n",
       "5             6                  Information / comparison Search   \n",
       "6             7   Touroperator / Travel agent Website Competitor   \n",
       "7             8       Touroperator / Travel agent App Competitor   \n",
       "8             9    Touroperator / Travel agent Search Competitor   \n",
       "9            10  Touroperator / Travel agent Website Focus brand   \n",
       "10           12   Touroperator / Travel agent Search Focus brand   \n",
       "11           13                           Flight tickets Website   \n",
       "12           14                               Flight tickets App   \n",
       "13           15                            Flight tickets Search   \n",
       "14           16                                   generic search   \n",
       "15           18                                       AFFILIATES   \n",
       "16           19                                           BANNER   \n",
       "17           20                                            EMAIL   \n",
       "18           21                                         PREROLLS   \n",
       "19           22                                      RETARGETING   \n",
       "\n",
       "                                   initiation  \n",
       "0               Consumer initiated touchpoint  \n",
       "1               Consumer initiated touchpoint  \n",
       "2               Consumer initiated touchpoint  \n",
       "3               Consumer initiated touchpoint  \n",
       "4               Consumer initiated touchpoint  \n",
       "5               Consumer initiated touchpoint  \n",
       "6               Consumer initiated touchpoint  \n",
       "7               Consumer initiated touchpoint  \n",
       "8               Consumer initiated touchpoint  \n",
       "9               Consumer initiated touchpoint  \n",
       "10              Consumer initiated touchpoint  \n",
       "11              Consumer initiated touchpoint  \n",
       "12              Consumer initiated touchpoint  \n",
       "13              Consumer initiated touchpoint  \n",
       "14              Consumer initiated touchpoint  \n",
       "15  Company intiated touchpoint (Focus brand)  \n",
       "16  Company intiated touchpoint (Focus brand)  \n",
       "17  Company intiated touchpoint (Focus brand)  \n",
       "18  Company intiated touchpoint (Focus brand)  \n",
       "19  Company intiated touchpoint (Focus brand)  "
      ]
     },
     "execution_count": 678,
     "metadata": {},
     "output_type": "execute_result"
    },
    {
     "name": "stderr",
     "output_type": "stream",
     "text": [
      "[Stage 903:============================>                            (1 + 1) / 2]\r"
     ]
    }
   ],
   "source": [
    "lookup_df = pd.read_csv('./data/touch_types.tsv', sep='\\t', names=['touch_point', 'description', 'initiation'])\n",
    "lookup_df.head(20)"
   ]
  },
  {
   "cell_type": "markdown",
   "metadata": {},
   "source": [
    "To facilitate further lookups, we will further convert the Pandas dataframe to a dictionary. Note that we also add an additional dictionary item `0 => 'Conversion'` to annotate conversion events as well."
   ]
  },
  {
   "cell_type": "code",
   "execution_count": 671,
   "metadata": {},
   "outputs": [
    {
     "name": "stdout",
     "output_type": "stream",
     "text": [
      "1 : Accomodations Website\n",
      "2 : Accomodations App\n",
      "3 : Accomodations Search\n",
      "4 : Information / comparison Website\n",
      "5 : Information / comparison App\n",
      "6 : Information / comparison Search\n",
      "7 : Touroperator / Travel agent Website Competitor\n",
      "8 : Touroperator / Travel agent App Competitor\n",
      "9 : Touroperator / Travel agent Search Competitor\n",
      "10 : Touroperator / Travel agent Website Focus brand\n",
      "12 : Touroperator / Travel agent Search Focus brand\n",
      "13 : Flight tickets Website\n",
      "14 : Flight tickets App\n",
      "15 : Flight tickets Search\n",
      "16 : generic search\n",
      "18 : AFFILIATES\n",
      "19 : BANNER\n",
      "20 : EMAIL\n",
      "21 : PREROLLS\n",
      "22 : RETARGETING\n",
      "0 : Conversion\n"
     ]
    },
    {
     "name": "stderr",
     "output_type": "stream",
     "text": [
      "[Stage 903:============================>                            (1 + 1) / 2]\r"
     ]
    }
   ],
   "source": [
    "lookup_dict = lookup_df.set_index('touch_point').to_dict()['description']\n",
    "lookup_dict[0] = 'Conversion'\n",
    "for k,v in lookup_dict.items():\n",
    "    print(k,\":\", v)"
   ]
  },
  {
   "cell_type": "code",
   "execution_count": 704,
   "metadata": {},
   "outputs": [
    {
     "data": {
      "text/html": [
       "<div>\n",
       "<style scoped>\n",
       "    .dataframe tbody tr th:only-of-type {\n",
       "        vertical-align: middle;\n",
       "    }\n",
       "\n",
       "    .dataframe tbody tr th {\n",
       "        vertical-align: top;\n",
       "    }\n",
       "\n",
       "    .dataframe thead th {\n",
       "        text-align: right;\n",
       "    }\n",
       "</style>\n",
       "<table border=\"1\" class=\"dataframe\">\n",
       "  <thead>\n",
       "    <tr style=\"text-align: right;\">\n",
       "      <th></th>\n",
       "      <th>antecedent</th>\n",
       "      <th>consequent</th>\n",
       "      <th>confidence</th>\n",
       "      <th>lift</th>\n",
       "      <th>support</th>\n",
       "      <th>descriptions</th>\n",
       "      <th>joined</th>\n",
       "    </tr>\n",
       "  </thead>\n",
       "  <tbody>\n",
       "    <tr>\n",
       "      <th>0</th>\n",
       "      <td>[13, 4, 1]</td>\n",
       "      <td>[7]</td>\n",
       "      <td>0.910383</td>\n",
       "      <td>1.536924</td>\n",
       "      <td>0.101544</td>\n",
       "      <td>[Flight tickets Website, Information / compari...</td>\n",
       "      <td>[13, 4, 1, 7, 0]</td>\n",
       "    </tr>\n",
       "    <tr>\n",
       "      <th>1</th>\n",
       "      <td>[13, 4, 7]</td>\n",
       "      <td>[1]</td>\n",
       "      <td>0.921777</td>\n",
       "      <td>1.395970</td>\n",
       "      <td>0.101544</td>\n",
       "      <td>[Flight tickets Website, Information / compari...</td>\n",
       "      <td>[13, 4, 7, 1, 0]</td>\n",
       "    </tr>\n",
       "    <tr>\n",
       "      <th>2</th>\n",
       "      <td>[16, 4, 7]</td>\n",
       "      <td>[1]</td>\n",
       "      <td>0.910272</td>\n",
       "      <td>1.378546</td>\n",
       "      <td>0.103854</td>\n",
       "      <td>[generic search, Information / comparison Webs...</td>\n",
       "      <td>[16, 4, 7, 1, 0]</td>\n",
       "    </tr>\n",
       "  </tbody>\n",
       "</table>\n",
       "</div>"
      ],
      "text/plain": [
       "   antecedent consequent  confidence      lift   support  \\\n",
       "0  [13, 4, 1]        [7]    0.910383  1.536924  0.101544   \n",
       "1  [13, 4, 7]        [1]    0.921777  1.395970  0.101544   \n",
       "2  [16, 4, 7]        [1]    0.910272  1.378546  0.103854   \n",
       "\n",
       "                                        descriptions            joined  \n",
       "0  [Flight tickets Website, Information / compari...  [13, 4, 1, 7, 0]  \n",
       "1  [Flight tickets Website, Information / compari...  [13, 4, 7, 1, 0]  \n",
       "2  [generic search, Information / comparison Webs...  [16, 4, 7, 1, 0]  "
      ]
     },
     "execution_count": 704,
     "metadata": {},
     "output_type": "execute_result"
    },
    {
     "name": "stderr",
     "output_type": "stream",
     "text": [
      "[Stage 903:============================>                            (1 + 1) / 2]\r"
     ]
    }
   ],
   "source": [
    "association_rules_df[\"joined\"] = (\n",
    "    association_rules_df[\"antecedent\"] + association_rules_df[\"consequent\"]\n",
    ")\n",
    "association_rules_df[\"joined\"] = association_rules_df[\"joined\"].apply(lambda x: x + [0])\n",
    "association_rules_df.head()"
   ]
  },
  {
   "cell_type": "markdown",
   "metadata": {},
   "source": [
    "To better interpret the results, it is mandatory to understand the following variables:\n",
    "\n",
    "- **Antecedent**: The item or set of items that appear in the \"if\" part of the rule. It represents the condition or premise of the rule.\n",
    "\n",
    "- **Consequent**: The item or set of items that appear in the \"then\" part of the rule. It represents the outcome or consequence of the rule.\n",
    "\n",
    "- **Support**: The support of a rule is the proportion of transactions that contain both the antecedent and the consequent. It measures the frequency of the rule in the dataset.\n",
    "\n",
    "- **Confidence**: The confidence of a rule is the proportion of transactions containing the antecedent that also contain the consequent. It measures the strength of the implication from the antecedent to the consequent.\n",
    "\n",
    "- **Lift**: The lift of a rule measures the degree of association between the antecedent and the consequent, taking into account the support of both items. It indicates whether the presence of the antecedent increases the likelihood of the consequent beyond what would be expected by chance."
   ]
  },
  {
   "cell_type": "markdown",
   "metadata": {},
   "source": [
    "We can now convert and interpret the derived assocation rules, which can be used to predict certain future events based on some prior events. In this case the association rules predict an interaction with a touroperator or accomidations website, leading to a conversion. The associated `lift` values for all association rules are higher than 1, indicating an increased likelhood for a customer interaction."
   ]
  },
  {
   "cell_type": "markdown",
   "metadata": {},
   "source": [
    "We can convert the association rules to text as follows."
   ]
  },
  {
   "cell_type": "code",
   "execution_count": 713,
   "metadata": {},
   "outputs": [
    {
     "name": "stdout",
     "output_type": "stream",
     "text": [
      "Extracted association rules:\n",
      "\n",
      "1: Flight tickets Website\n",
      "   => Information / comparison Website\n",
      "   => Accomodations Website\n",
      "   => Touroperator / Travel agent Website Competitor\n",
      "   => Conversion\n",
      "2: Flight tickets Website\n",
      "   => Information / comparison Website\n",
      "   => Touroperator / Travel agent Website Competitor\n",
      "   => Accomodations Website\n",
      "   => Conversion\n",
      "3: generic search\n",
      "   => Information / comparison Website\n",
      "   => Touroperator / Travel agent Website Competitor\n",
      "   => Accomodations Website\n",
      "   => Conversion\n"
     ]
    },
    {
     "name": "stderr",
     "output_type": "stream",
     "text": [
      "[Stage 903:============================>                            (1 + 1) / 2]\r"
     ]
    }
   ],
   "source": [
    "association_rules_df['descriptions'] = association_rules_df['joined'].apply(lambda x: [lookup_dict[i] for i in x])\n",
    "\n",
    "print(\"Extracted association rules:\\n\")\n",
    "for i,v in enumerate(association_rules_df['descriptions'].apply(lambda x: \"\\n   => \".join(x))):\n",
    "    print(i+1, ': ', v, sep='')"
   ]
  },
  {
   "cell_type": "markdown",
   "metadata": {},
   "source": [
    "## Customer journey visualization"
   ]
  },
  {
   "cell_type": "markdown",
   "metadata": {},
   "source": [
    "Frequent itemsets represent common customer touch event sequences that occur together frequently. So these sequences can be seen as customer journeys across various touchpoints leading eventually to a purchase or conversion. We can derive those customer journeys from the extracted frequent itemsets we have discovered earlier. So let's have a look."
   ]
  },
  {
   "cell_type": "code",
   "execution_count": 717,
   "metadata": {},
   "outputs": [
    {
     "name": "stdout",
     "output_type": "stream",
     "text": [
      "Frequent customer journeys:\n",
      "\n",
      "1: Accomodations Website\n",
      "   => Conversion\n",
      "2: Touroperator / Travel agent Website Competitor\n",
      "   => Conversion\n",
      "3: Touroperator / Travel agent Website Competitor\n",
      "   => Accomodations Website\n",
      "   => Conversion\n",
      "4: Information / comparison Website\n",
      "   => Conversion\n",
      "5: generic search\n",
      "   => Conversion\n",
      "6: Information / comparison Website\n",
      "   => Accomodations Website\n",
      "   => Conversion\n",
      "7: Flight tickets Website\n",
      "   => Conversion\n",
      "8: Information / comparison Website\n",
      "   => Touroperator / Travel agent Website Competitor\n",
      "   => Conversion\n",
      "9: Information / comparison Website\n",
      "   => Touroperator / Travel agent Website Competitor\n",
      "   => Accomodations Website\n",
      "   => Conversion\n",
      "10: generic search\n",
      "   => Accomodations Website\n",
      "   => Conversion\n",
      "11: Flight tickets Website\n",
      "   => Accomodations Website\n",
      "   => Conversion\n",
      "12: Flight tickets Website\n",
      "   => Touroperator / Travel agent Website Competitor\n",
      "   => Conversion\n",
      "13: generic search\n",
      "   => Touroperator / Travel agent Website Competitor\n",
      "   => Conversion\n",
      "14: Flight tickets Website\n",
      "   => Touroperator / Travel agent Website Competitor\n",
      "   => Accomodations Website\n",
      "   => Conversion\n",
      "15: generic search\n",
      "   => Touroperator / Travel agent Website Competitor\n",
      "   => Accomodations Website\n",
      "   => Conversion\n",
      "16: generic search\n",
      "   => Information / comparison Website\n",
      "   => Conversion\n",
      "17: Flight tickets Website\n",
      "   => Information / comparison Website\n",
      "   => Conversion\n",
      "18: generic search\n",
      "   => Information / comparison Website\n",
      "   => Accomodations Website\n",
      "   => Conversion\n",
      "19: generic search\n",
      "   => Information / comparison Website\n",
      "   => Touroperator / Travel agent Website Competitor\n",
      "   => Conversion\n",
      "20: Flight tickets Website\n",
      "   => Information / comparison Website\n",
      "   => Accomodations Website\n",
      "   => Conversion\n",
      "21: Flight tickets Website\n",
      "   => Information / comparison Website\n",
      "   => Touroperator / Travel agent Website Competitor\n",
      "   => Conversion\n",
      "22: Touroperator / Travel agent Website Focus brand\n",
      "   => Conversion\n",
      "23: generic search\n",
      "   => Information / comparison Website\n",
      "   => Touroperator / Travel agent Website Competitor\n",
      "   => Accomodations Website\n",
      "   => Conversion\n",
      "24: Flight tickets Website\n",
      "   => Information / comparison Website\n",
      "   => Touroperator / Travel agent Website Competitor\n",
      "   => Accomodations Website\n",
      "   => Conversion\n"
     ]
    }
   ],
   "source": [
    "itemset_df['touch_description'] = itemset_df['items'].apply(lambda x: [lookup_dict[i] for i in x])\n",
    "\n",
    "print(\"Frequent customer journeys:\\n\")\n",
    "for i,v in enumerate(itemset_df['touch_description'].apply(lambda x: \"\\n   => \".join(x)).to_list()):\n",
    "    print(i+1, ': ', v, sep='')"
   ]
  },
  {
   "cell_type": "markdown",
   "metadata": {},
   "source": [
    "To provide more insights and help users idenfifying patterns, we will generate a Sankey diagram using the frequent itemsets. A Sankey diagram is a type of data visualization that illustrates the flow of quantities or values between multiple entities. It's particularly useful for showing the distribution of values, proportions, or quantities across different stages or categories in a system. As such, Sankey diagrams provide a clear and intuitive way to visualize complex data flows and relationships. In our case, the Sankey diargram will depict common sequences of touchpoint events, i.e. customer journeys, leading to conversions."
   ]
  },
  {
   "cell_type": "markdown",
   "metadata": {},
   "source": [
    "Before creating the Sankey diagram we will still define an auxiliary function that will convert hex color codes to rgba colors. This will allow us to specify the opacity of the colors as well. Using this function, we can create color palettes that we will use for coloring groups in our Sankey diagram."
   ]
  },
  {
   "cell_type": "code",
   "execution_count": 722,
   "metadata": {},
   "outputs": [
    {
     "name": "stderr",
     "output_type": "stream",
     "text": [
      "[Stage 903:============================>                            (1 + 1) / 2]\r"
     ]
    }
   ],
   "source": [
    "def hex_to_rgba(hex_color, alpha):\n",
    "    hex_color = hex_color.lstrip('#')\n",
    "    r, g, b = tuple(int(hex_color[i:i + 2], 16) for i in (0, 2, 4))\n",
    "    return f\"rgba({r}, {g}, {b}, {alpha})\"\n",
    "    \n",
    "colors = sns.color_palette(\"Dark2_r\", 7).as_hex()\n",
    "palette = [hex_to_rgba(p, 0.8) for p in colors]\n",
    "palette_opacity = [hex_to_rgba(p, 0.4) for p in colors]"
   ]
  },
  {
   "cell_type": "markdown",
   "metadata": {},
   "source": [
    "We can now create the Sankey diagram as follows using [Plotly](https://plotly.com/python/) as a data visualization library."
   ]
  },
  {
   "cell_type": "code",
   "execution_count": 795,
   "metadata": {},
   "outputs": [
    {
     "data": {
      "application/vnd.plotly.v1+json": {
       "config": {
        "plotlyServerURL": "https://plot.ly"
       },
       "data": [
        {
         "arrangement": "snap",
         "link": {
          "color": [
           "rgba(230, 171, 2, 0.4)",
           "rgba(231, 41, 138, 0.4)",
           "rgba(231, 41, 138, 0.4)",
           "rgba(230, 171, 2, 0.4)",
           "rgba(102, 166, 30, 0.4)",
           "rgba(27, 158, 119, 0.4)",
           "rgba(102, 166, 30, 0.4)",
           "rgba(230, 171, 2, 0.4)",
           "rgba(217, 95, 2, 0.4)",
           "rgba(102, 166, 30, 0.4)",
           "rgba(231, 41, 138, 0.4)",
           "rgba(102, 166, 30, 0.4)",
           "rgba(231, 41, 138, 0.4)",
           "rgba(230, 171, 2, 0.4)",
           "rgba(27, 158, 119, 0.4)",
           "rgba(230, 171, 2, 0.4)",
           "rgba(217, 95, 2, 0.4)",
           "rgba(230, 171, 2, 0.4)",
           "rgba(217, 95, 2, 0.4)",
           "rgba(231, 41, 138, 0.4)",
           "rgba(27, 158, 119, 0.4)",
           "rgba(231, 41, 138, 0.4)",
           "rgba(217, 95, 2, 0.4)",
           "rgba(231, 41, 138, 0.4)",
           "rgba(230, 171, 2, 0.4)",
           "rgba(27, 158, 119, 0.4)",
           "rgba(231, 41, 138, 0.4)",
           "rgba(230, 171, 2, 0.4)",
           "rgba(27, 158, 119, 0.4)",
           "rgba(102, 166, 30, 0.4)",
           "rgba(217, 95, 2, 0.4)",
           "rgba(102, 166, 30, 0.4)",
           "rgba(27, 158, 119, 0.4)",
           "rgba(102, 166, 30, 0.4)",
           "rgba(230, 171, 2, 0.4)",
           "rgba(27, 158, 119, 0.4)",
           "rgba(102, 166, 30, 0.4)",
           "rgba(231, 41, 138, 0.4)",
           "rgba(217, 95, 2, 0.4)",
           "rgba(102, 166, 30, 0.4)",
           "rgba(230, 171, 2, 0.4)",
           "rgba(217, 95, 2, 0.4)",
           "rgba(102, 166, 30, 0.4)",
           "rgba(231, 41, 138, 0.4)",
           "rgba(117, 112, 179, 0.4)",
           "rgba(27, 158, 119, 0.4)",
           "rgba(102, 166, 30, 0.4)",
           "rgba(231, 41, 138, 0.4)",
           "rgba(230, 171, 2, 0.4)",
           "rgba(217, 95, 2, 0.4)",
           "rgba(102, 166, 30, 0.4)",
           "rgba(231, 41, 138, 0.4)",
           "rgba(230, 171, 2, 0.4)"
          ],
          "hovertemplate": [
           "Conversion",
           "Accomodations Website",
           "Information / comparison Website",
           "Touroperator / Travel agent Website Competitor",
           "Touroperator / Travel agent Website Focus brand",
           "Flight tickets Website",
           "generic search"
          ],
          "label": [
           "12.30%",
           "11.03%",
           "7.49%",
           "6.67%",
           "5.04%",
           "4.97%",
           "4.75%",
           "4.60%",
           "3.93%",
           "3.65%",
           "3.58%",
           "3.50%",
           "3.38%",
           "3.07%",
           "2.84%",
           "2.56%",
           "2.36%",
           "2.23%",
           "2.12%",
           "2.08%",
           "2.05%",
           "1.97%",
           "1.93%",
           "1.89%"
          ],
          "source": [
           1,
           3,
           3,
           1,
           2,
           6,
           2,
           1,
           5,
           2,
           3,
           2,
           3,
           1,
           6,
           1,
           5,
           1,
           5,
           3,
           6,
           3,
           5,
           3,
           1,
           6,
           3,
           1,
           6,
           2,
           5,
           2,
           6,
           2,
           1,
           6,
           2,
           3,
           5,
           2,
           1,
           5,
           2,
           3,
           4,
           6,
           2,
           3,
           1,
           5,
           2,
           3,
           1
          ],
          "target": [
           0,
           0,
           1,
           0,
           0,
           0,
           1,
           0,
           0,
           3,
           0,
           3,
           1,
           0,
           1,
           0,
           1,
           0,
           3,
           0,
           3,
           0,
           3,
           1,
           0,
           3,
           1,
           0,
           2,
           0,
           2,
           0,
           2,
           1,
           0,
           2,
           3,
           0,
           2,
           1,
           0,
           2,
           3,
           0,
           0,
           2,
           3,
           1,
           0,
           2,
           3,
           1,
           0
          ],
          "value": [
           19157,
           17185,
           11670,
           10396,
           7857,
           7742,
           7395,
           7162,
           6128,
           5685,
           5583,
           5455,
           5269,
           4781,
           4432,
           3991,
           3677,
           3467,
           3310,
           3236,
           3196,
           3066,
           3013,
           2946
          ]
         },
         "node": {
          "color": [
           "rgba(166, 118, 29, 0.8)",
           "rgba(230, 171, 2, 0.8)",
           "rgba(102, 166, 30, 0.8)",
           "rgba(231, 41, 138, 0.8)",
           "rgba(117, 112, 179, 0.8)",
           "rgba(217, 95, 2, 0.8)",
           "rgba(27, 158, 119, 0.8)"
          ],
          "label": [
           "Conversion",
           "Accomodations Website",
           "Information / comparison Website",
           "Touroperator / Travel agent Website Competitor",
           "Touroperator / Travel agent Website Focus brand",
           "Flight tickets Website",
           "generic search"
          ],
          "line": {
           "color": "black",
           "width": 0.5
          },
          "pad": 0,
          "thickness": 20,
          "x": [
           1,
           0.9,
           0.1,
           0.65,
           0.1,
           0.1
          ],
          "y": [
           0.5,
           0,
           0.3,
           0.3,
           0.55,
           0.75
          ]
         },
         "type": "sankey"
        }
       ],
       "layout": {
        "autosize": false,
        "font": {
         "color": "black",
         "size": 15
        },
        "height": 400,
        "hovermode": "x",
        "margin": {
         "b": 20,
         "l": 0,
         "t": 30
        },
        "template": {
         "data": {
          "bar": [
           {
            "error_x": {
             "color": "#2a3f5f"
            },
            "error_y": {
             "color": "#2a3f5f"
            },
            "marker": {
             "line": {
              "color": "#E5ECF6",
              "width": 0.5
             },
             "pattern": {
              "fillmode": "overlay",
              "size": 10,
              "solidity": 0.2
             }
            },
            "type": "bar"
           }
          ],
          "barpolar": [
           {
            "marker": {
             "line": {
              "color": "#E5ECF6",
              "width": 0.5
             },
             "pattern": {
              "fillmode": "overlay",
              "size": 10,
              "solidity": 0.2
             }
            },
            "type": "barpolar"
           }
          ],
          "carpet": [
           {
            "aaxis": {
             "endlinecolor": "#2a3f5f",
             "gridcolor": "white",
             "linecolor": "white",
             "minorgridcolor": "white",
             "startlinecolor": "#2a3f5f"
            },
            "baxis": {
             "endlinecolor": "#2a3f5f",
             "gridcolor": "white",
             "linecolor": "white",
             "minorgridcolor": "white",
             "startlinecolor": "#2a3f5f"
            },
            "type": "carpet"
           }
          ],
          "choropleth": [
           {
            "colorbar": {
             "outlinewidth": 0,
             "ticks": ""
            },
            "type": "choropleth"
           }
          ],
          "contour": [
           {
            "colorbar": {
             "outlinewidth": 0,
             "ticks": ""
            },
            "colorscale": [
             [
              0,
              "#0d0887"
             ],
             [
              0.1111111111111111,
              "#46039f"
             ],
             [
              0.2222222222222222,
              "#7201a8"
             ],
             [
              0.3333333333333333,
              "#9c179e"
             ],
             [
              0.4444444444444444,
              "#bd3786"
             ],
             [
              0.5555555555555556,
              "#d8576b"
             ],
             [
              0.6666666666666666,
              "#ed7953"
             ],
             [
              0.7777777777777778,
              "#fb9f3a"
             ],
             [
              0.8888888888888888,
              "#fdca26"
             ],
             [
              1,
              "#f0f921"
             ]
            ],
            "type": "contour"
           }
          ],
          "contourcarpet": [
           {
            "colorbar": {
             "outlinewidth": 0,
             "ticks": ""
            },
            "type": "contourcarpet"
           }
          ],
          "heatmap": [
           {
            "colorbar": {
             "outlinewidth": 0,
             "ticks": ""
            },
            "colorscale": [
             [
              0,
              "#0d0887"
             ],
             [
              0.1111111111111111,
              "#46039f"
             ],
             [
              0.2222222222222222,
              "#7201a8"
             ],
             [
              0.3333333333333333,
              "#9c179e"
             ],
             [
              0.4444444444444444,
              "#bd3786"
             ],
             [
              0.5555555555555556,
              "#d8576b"
             ],
             [
              0.6666666666666666,
              "#ed7953"
             ],
             [
              0.7777777777777778,
              "#fb9f3a"
             ],
             [
              0.8888888888888888,
              "#fdca26"
             ],
             [
              1,
              "#f0f921"
             ]
            ],
            "type": "heatmap"
           }
          ],
          "heatmapgl": [
           {
            "colorbar": {
             "outlinewidth": 0,
             "ticks": ""
            },
            "colorscale": [
             [
              0,
              "#0d0887"
             ],
             [
              0.1111111111111111,
              "#46039f"
             ],
             [
              0.2222222222222222,
              "#7201a8"
             ],
             [
              0.3333333333333333,
              "#9c179e"
             ],
             [
              0.4444444444444444,
              "#bd3786"
             ],
             [
              0.5555555555555556,
              "#d8576b"
             ],
             [
              0.6666666666666666,
              "#ed7953"
             ],
             [
              0.7777777777777778,
              "#fb9f3a"
             ],
             [
              0.8888888888888888,
              "#fdca26"
             ],
             [
              1,
              "#f0f921"
             ]
            ],
            "type": "heatmapgl"
           }
          ],
          "histogram": [
           {
            "marker": {
             "pattern": {
              "fillmode": "overlay",
              "size": 10,
              "solidity": 0.2
             }
            },
            "type": "histogram"
           }
          ],
          "histogram2d": [
           {
            "colorbar": {
             "outlinewidth": 0,
             "ticks": ""
            },
            "colorscale": [
             [
              0,
              "#0d0887"
             ],
             [
              0.1111111111111111,
              "#46039f"
             ],
             [
              0.2222222222222222,
              "#7201a8"
             ],
             [
              0.3333333333333333,
              "#9c179e"
             ],
             [
              0.4444444444444444,
              "#bd3786"
             ],
             [
              0.5555555555555556,
              "#d8576b"
             ],
             [
              0.6666666666666666,
              "#ed7953"
             ],
             [
              0.7777777777777778,
              "#fb9f3a"
             ],
             [
              0.8888888888888888,
              "#fdca26"
             ],
             [
              1,
              "#f0f921"
             ]
            ],
            "type": "histogram2d"
           }
          ],
          "histogram2dcontour": [
           {
            "colorbar": {
             "outlinewidth": 0,
             "ticks": ""
            },
            "colorscale": [
             [
              0,
              "#0d0887"
             ],
             [
              0.1111111111111111,
              "#46039f"
             ],
             [
              0.2222222222222222,
              "#7201a8"
             ],
             [
              0.3333333333333333,
              "#9c179e"
             ],
             [
              0.4444444444444444,
              "#bd3786"
             ],
             [
              0.5555555555555556,
              "#d8576b"
             ],
             [
              0.6666666666666666,
              "#ed7953"
             ],
             [
              0.7777777777777778,
              "#fb9f3a"
             ],
             [
              0.8888888888888888,
              "#fdca26"
             ],
             [
              1,
              "#f0f921"
             ]
            ],
            "type": "histogram2dcontour"
           }
          ],
          "mesh3d": [
           {
            "colorbar": {
             "outlinewidth": 0,
             "ticks": ""
            },
            "type": "mesh3d"
           }
          ],
          "parcoords": [
           {
            "line": {
             "colorbar": {
              "outlinewidth": 0,
              "ticks": ""
             }
            },
            "type": "parcoords"
           }
          ],
          "pie": [
           {
            "automargin": true,
            "type": "pie"
           }
          ],
          "scatter": [
           {
            "fillpattern": {
             "fillmode": "overlay",
             "size": 10,
             "solidity": 0.2
            },
            "type": "scatter"
           }
          ],
          "scatter3d": [
           {
            "line": {
             "colorbar": {
              "outlinewidth": 0,
              "ticks": ""
             }
            },
            "marker": {
             "colorbar": {
              "outlinewidth": 0,
              "ticks": ""
             }
            },
            "type": "scatter3d"
           }
          ],
          "scattercarpet": [
           {
            "marker": {
             "colorbar": {
              "outlinewidth": 0,
              "ticks": ""
             }
            },
            "type": "scattercarpet"
           }
          ],
          "scattergeo": [
           {
            "marker": {
             "colorbar": {
              "outlinewidth": 0,
              "ticks": ""
             }
            },
            "type": "scattergeo"
           }
          ],
          "scattergl": [
           {
            "marker": {
             "colorbar": {
              "outlinewidth": 0,
              "ticks": ""
             }
            },
            "type": "scattergl"
           }
          ],
          "scattermapbox": [
           {
            "marker": {
             "colorbar": {
              "outlinewidth": 0,
              "ticks": ""
             }
            },
            "type": "scattermapbox"
           }
          ],
          "scatterpolar": [
           {
            "marker": {
             "colorbar": {
              "outlinewidth": 0,
              "ticks": ""
             }
            },
            "type": "scatterpolar"
           }
          ],
          "scatterpolargl": [
           {
            "marker": {
             "colorbar": {
              "outlinewidth": 0,
              "ticks": ""
             }
            },
            "type": "scatterpolargl"
           }
          ],
          "scatterternary": [
           {
            "marker": {
             "colorbar": {
              "outlinewidth": 0,
              "ticks": ""
             }
            },
            "type": "scatterternary"
           }
          ],
          "surface": [
           {
            "colorbar": {
             "outlinewidth": 0,
             "ticks": ""
            },
            "colorscale": [
             [
              0,
              "#0d0887"
             ],
             [
              0.1111111111111111,
              "#46039f"
             ],
             [
              0.2222222222222222,
              "#7201a8"
             ],
             [
              0.3333333333333333,
              "#9c179e"
             ],
             [
              0.4444444444444444,
              "#bd3786"
             ],
             [
              0.5555555555555556,
              "#d8576b"
             ],
             [
              0.6666666666666666,
              "#ed7953"
             ],
             [
              0.7777777777777778,
              "#fb9f3a"
             ],
             [
              0.8888888888888888,
              "#fdca26"
             ],
             [
              1,
              "#f0f921"
             ]
            ],
            "type": "surface"
           }
          ],
          "table": [
           {
            "cells": {
             "fill": {
              "color": "#EBF0F8"
             },
             "line": {
              "color": "white"
             }
            },
            "header": {
             "fill": {
              "color": "#C8D4E3"
             },
             "line": {
              "color": "white"
             }
            },
            "type": "table"
           }
          ]
         },
         "layout": {
          "annotationdefaults": {
           "arrowcolor": "#2a3f5f",
           "arrowhead": 0,
           "arrowwidth": 1
          },
          "autotypenumbers": "strict",
          "coloraxis": {
           "colorbar": {
            "outlinewidth": 0,
            "ticks": ""
           }
          },
          "colorscale": {
           "diverging": [
            [
             0,
             "#8e0152"
            ],
            [
             0.1,
             "#c51b7d"
            ],
            [
             0.2,
             "#de77ae"
            ],
            [
             0.3,
             "#f1b6da"
            ],
            [
             0.4,
             "#fde0ef"
            ],
            [
             0.5,
             "#f7f7f7"
            ],
            [
             0.6,
             "#e6f5d0"
            ],
            [
             0.7,
             "#b8e186"
            ],
            [
             0.8,
             "#7fbc41"
            ],
            [
             0.9,
             "#4d9221"
            ],
            [
             1,
             "#276419"
            ]
           ],
           "sequential": [
            [
             0,
             "#0d0887"
            ],
            [
             0.1111111111111111,
             "#46039f"
            ],
            [
             0.2222222222222222,
             "#7201a8"
            ],
            [
             0.3333333333333333,
             "#9c179e"
            ],
            [
             0.4444444444444444,
             "#bd3786"
            ],
            [
             0.5555555555555556,
             "#d8576b"
            ],
            [
             0.6666666666666666,
             "#ed7953"
            ],
            [
             0.7777777777777778,
             "#fb9f3a"
            ],
            [
             0.8888888888888888,
             "#fdca26"
            ],
            [
             1,
             "#f0f921"
            ]
           ],
           "sequentialminus": [
            [
             0,
             "#0d0887"
            ],
            [
             0.1111111111111111,
             "#46039f"
            ],
            [
             0.2222222222222222,
             "#7201a8"
            ],
            [
             0.3333333333333333,
             "#9c179e"
            ],
            [
             0.4444444444444444,
             "#bd3786"
            ],
            [
             0.5555555555555556,
             "#d8576b"
            ],
            [
             0.6666666666666666,
             "#ed7953"
            ],
            [
             0.7777777777777778,
             "#fb9f3a"
            ],
            [
             0.8888888888888888,
             "#fdca26"
            ],
            [
             1,
             "#f0f921"
            ]
           ]
          },
          "colorway": [
           "#636efa",
           "#EF553B",
           "#00cc96",
           "#ab63fa",
           "#FFA15A",
           "#19d3f3",
           "#FF6692",
           "#B6E880",
           "#FF97FF",
           "#FECB52"
          ],
          "font": {
           "color": "#2a3f5f"
          },
          "geo": {
           "bgcolor": "white",
           "lakecolor": "white",
           "landcolor": "#E5ECF6",
           "showlakes": true,
           "showland": true,
           "subunitcolor": "white"
          },
          "hoverlabel": {
           "align": "left"
          },
          "hovermode": "closest",
          "mapbox": {
           "style": "light"
          },
          "paper_bgcolor": "white",
          "plot_bgcolor": "#E5ECF6",
          "polar": {
           "angularaxis": {
            "gridcolor": "white",
            "linecolor": "white",
            "ticks": ""
           },
           "bgcolor": "#E5ECF6",
           "radialaxis": {
            "gridcolor": "white",
            "linecolor": "white",
            "ticks": ""
           }
          },
          "scene": {
           "xaxis": {
            "backgroundcolor": "#E5ECF6",
            "gridcolor": "white",
            "gridwidth": 2,
            "linecolor": "white",
            "showbackground": true,
            "ticks": "",
            "zerolinecolor": "white"
           },
           "yaxis": {
            "backgroundcolor": "#E5ECF6",
            "gridcolor": "white",
            "gridwidth": 2,
            "linecolor": "white",
            "showbackground": true,
            "ticks": "",
            "zerolinecolor": "white"
           },
           "zaxis": {
            "backgroundcolor": "#E5ECF6",
            "gridcolor": "white",
            "gridwidth": 2,
            "linecolor": "white",
            "showbackground": true,
            "ticks": "",
            "zerolinecolor": "white"
           }
          },
          "shapedefaults": {
           "line": {
            "color": "#2a3f5f"
           }
          },
          "ternary": {
           "aaxis": {
            "gridcolor": "white",
            "linecolor": "white",
            "ticks": ""
           },
           "baxis": {
            "gridcolor": "white",
            "linecolor": "white",
            "ticks": ""
           },
           "bgcolor": "#E5ECF6",
           "caxis": {
            "gridcolor": "white",
            "linecolor": "white",
            "ticks": ""
           }
          },
          "title": {
           "x": 0.05
          },
          "xaxis": {
           "automargin": true,
           "gridcolor": "white",
           "linecolor": "white",
           "ticks": "",
           "title": {
            "standoff": 15
           },
           "zerolinecolor": "white",
           "zerolinewidth": 2
          },
          "yaxis": {
           "automargin": true,
           "gridcolor": "white",
           "linecolor": "white",
           "ticks": "",
           "title": {
            "standoff": 15
           },
           "zerolinecolor": "white",
           "zerolinewidth": 2
          }
         }
        },
        "title": {
         "text": "Frequent customer journey paths"
        },
        "width": 800
       }
      }
     },
     "metadata": {},
     "output_type": "display_data"
    },
    {
     "name": "stderr",
     "output_type": "stream",
     "text": [
      "[Stage 903:============================>                            (1 + 1) / 2]\r"
     ]
    }
   ],
   "source": [
    "# Extract distinct touch points from data frame with itemsets\n",
    "unique_touch_points = set(event for seq in itemset_df[\"items\"] for event in seq)\n",
    "\n",
    "# Create a node dictionary\n",
    "node_dict = {event: idx for idx, event in enumerate(unique_touch_points)}\n",
    "\n",
    "# Prepare source and target nodes\n",
    "sources = []\n",
    "targets = []\n",
    "for seq in itemset_df[\"items\"]:\n",
    "    if len(seq) > 1:\n",
    "        for i in range(len(seq) - 1):\n",
    "            sources.append(node_dict[seq[i]])\n",
    "            targets.append(node_dict[seq[i + 1]])\n",
    "\n",
    "# Create Sankey diagram\n",
    "fig = go.Figure(\n",
    "    go.Sankey(\n",
    "        arrangement=\"snap\",\n",
    "        # configure the node properties\n",
    "        node=dict(\n",
    "            x=[1.0, 0.9, 0.1, 0.65, 0.1, 0.1],\n",
    "            y=[0.5, 0.0, 0.3, 0.3, 0.55, 0.75],\n",
    "            pad=0,\n",
    "            thickness=20,\n",
    "            line=dict(color=\"black\", width=0.5),\n",
    "            label=[lookup_dict[i] for i in list(unique_touch_points)],\n",
    "            color=palette,\n",
    "\n",
    "        ),\n",
    "        # configure the link properties\n",
    "        link=dict(\n",
    "            source=sources,\n",
    "            target=targets,\n",
    "            value=journeys_df[\"freq\"],\n",
    "            color=[palette_opacity[s] for s in sources],\n",
    "            label=[f\"{p:.2f}%\" for p in journeys_df[\"proportion\"]],\n",
    "            hovertemplate=[lookup_dict[i] for i in list(unique_touch_points)]\n",
    "        ),\n",
    "    )\n",
    ")\n",
    "\n",
    "fig.update_layout(\n",
    "    title_text=\"Frequent customer journey paths\",\n",
    "    autosize=False,\n",
    "    width=800,\n",
    "    hovermode=\"x\",\n",
    "    font=dict(size=15, color=\"black\"),\n",
    "    height=400,\n",
    "    margin={\"t\": 30, \"b\": 20, \"l\": 0},\n",
    ")\n",
    "\n",
    "fig.show()"
   ]
  },
  {
   "cell_type": "markdown",
   "metadata": {},
   "source": [
    "The Sankey diagram provides a nice and intuitive overview of typical customer journes leading to conversions. Note also that we can immediately see proportions for trajectories by the height of the grouping bars."
   ]
  },
  {
   "cell_type": "markdown",
   "metadata": {},
   "source": [
    "## Conclusion"
   ]
  },
  {
   "cell_type": "markdown",
   "metadata": {},
   "source": [
    "In this analysis we have demonstrated that frequent itemset mining can be a useful approach to disover meaningful patterns from transactional data records. Furthermore, Apache Spark provides a powerful framework for data prepreprocesing and a scalable library for frequent itemset extraction using the bult-in FP-Growth algorithm. Finally, Sankey diagrams can provide an intuive way to visualize sequences of events."
   ]
  },
  {
   "cell_type": "markdown",
   "metadata": {},
   "source": [
    "## References"
   ]
  },
  {
   "cell_type": "markdown",
   "metadata": {},
   "source": [
    "- **Han, J., Pei, J., & Yin, Y. (2000)**. Mining frequent patterns without candidate generation. ACM sigmod record, 29(2), 1-12."
   ]
  }
 ],
 "metadata": {
  "kernelspec": {
   "display_name": "attribution",
   "language": "python",
   "name": "python3"
  },
  "language_info": {
   "codemirror_mode": {
    "name": "ipython",
    "version": 3
   },
   "file_extension": ".py",
   "mimetype": "text/x-python",
   "name": "python",
   "nbconvert_exporter": "python",
   "pygments_lexer": "ipython3",
   "version": "3.11.4"
  },
  "orig_nbformat": 4
 },
 "nbformat": 4,
 "nbformat_minor": 2
}
